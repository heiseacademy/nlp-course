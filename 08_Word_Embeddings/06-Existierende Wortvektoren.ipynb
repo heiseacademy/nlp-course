{
 "cells": [
  {
   "cell_type": "markdown",
   "metadata": {},
   "source": [
    "# Nutzung existierender Embeddings"
   ]
  },
  {
   "cell_type": "markdown",
   "metadata": {},
   "source": [
    "Das Training eigener Embeddings hast du bereits kennengelernt. Um Embeddings trainieren zu können, benötigst du eine relativ große Datenmenge, die dir möglicherweise nicht immer zur Verfügung steht.\n",
    "\n",
    "Für unterschiedliche Anwendungsfälle und verschiedene Sprachen kannst du auch bereits existierende Embeddings herunterladen und mit diesen arbeiten. Damit kannst du z.B. Landessprachen erkennen oder Wortähnlichkeiten ermitteln, ohne die Embeddings zuvor aus einer großen Textdatenmenge lernen zu müssen."
   ]
  },
  {
   "cell_type": "markdown",
   "metadata": {},
   "source": [
    "## Erkennung der Landesprache"
   ]
  },
  {
   "cell_type": "markdown",
   "metadata": {},
   "source": [
    "Mit der Landesspracherkennung hast du bereits gearbeitet, daher ist diese hier nur der Vollständigkeit halber erwähnt. Als  Technologie wird hier nämlich auch ein Embedding-Verfahren benutzt, allerdings in Zusammenhang mit einer Klassifikation (die du nun auch bereits kennst).\n",
    "\n",
    "Nähere Infos findest du unter https://fasttext.cc/docs/en/language-identification.html"
   ]
  },
  {
   "cell_type": "markdown",
   "metadata": {},
   "source": [
    "## Deutschsprachige Embeddings"
   ]
  },
  {
   "cell_type": "markdown",
   "metadata": {},
   "source": [
    "### Facebook - Common Crawl"
   ]
  },
  {
   "cell_type": "markdown",
   "metadata": {},
   "source": [
    "Deutschsprachige Embeddings kannst du z.B. von https://fasttext.cc/docs/en/crawl-vectors.html herunterladen, da ist dann die Datei https://dl.fbaipublicfiles.com/fasttext/vectors-crawl/cc.de.300.bin.gz besonders interessant. Wenn du Colab benutzt, musst du nichts tun. Sonst lade dir bitte die Datei herunter und entpacke sie.\n",
    "\n",
    "Diese Embeddings kannst du nicht mit `gensim` einladen, sondern du musst dazu das `fasttext` Paket nutzen:"
   ]
  },
  {
   "cell_type": "code",
   "execution_count": null,
   "metadata": {},
   "outputs": [],
   "source": [
    "import sys, os\n",
    "ON_COLAB = 'google.colab' in sys.modules\n",
    "\n",
    "if ON_COLAB:\n",
    "    os.system(\"test -f cc.de.300.bin || wget  https://dl.fbaipublicfiles.com/fasttext/vectors-crawl/cc.de.300.bin.gz && gunzip cc.de.300.bin.gz\")"
   ]
  },
  {
   "cell_type": "code",
   "execution_count": null,
   "metadata": {},
   "outputs": [],
   "source": [
    "!pip install fasttext"
   ]
  },
  {
   "cell_type": "code",
   "execution_count": null,
   "metadata": {},
   "outputs": [],
   "source": [
    "import fasttext\n",
    "cc_ft = fasttext.load_model(\"cc.de.300.bin\")"
   ]
  },
  {
   "cell_type": "markdown",
   "metadata": {},
   "source": [
    "Mit dem großen Modell kannst du Wortähnlichkeiten bestimmen: "
   ]
  },
  {
   "cell_type": "code",
   "execution_count": null,
   "metadata": {},
   "outputs": [],
   "source": [
    "cc_ft.get_nearest_neighbors(\"apfel\", k=20)"
   ]
  },
  {
   "cell_type": "code",
   "execution_count": null,
   "metadata": {},
   "outputs": [],
   "source": [
    "cc_ft.get_nearest_neighbors(\"Apfel\", k=20)"
   ]
  },
  {
   "cell_type": "markdown",
   "metadata": {},
   "source": [
    "Oder auch die immer wieder zitierten Analogieschlüsse ausprobieren:"
   ]
  },
  {
   "cell_type": "code",
   "execution_count": null,
   "metadata": {},
   "outputs": [],
   "source": [
    "cc_ft.get_analogies(\"Frau\", \"Mann\", \"König\")"
   ]
  },
  {
   "cell_type": "code",
   "execution_count": null,
   "metadata": {},
   "outputs": [],
   "source": [
    "cc_ft.get_analogies(\"Frau\", \"Mann\", \"Onkel\")"
   ]
  },
  {
   "cell_type": "code",
   "execution_count": null,
   "metadata": {},
   "outputs": [],
   "source": [
    "# Speicher freigeben für Colab\n",
    "del cc_ft"
   ]
  },
  {
   "cell_type": "markdown",
   "metadata": {},
   "source": [
    "### deepset-Embeddings"
   ]
  },
  {
   "cell_type": "markdown",
   "metadata": {},
   "source": [
    "Es gibt noch deutlich mehr \"fertige\" Embeddings, z.B. von https://deepset.ai/german-word-embeddings:\n",
    "* https://int-emb-glove-de-wiki.s3.eu-central-1.amazonaws.com/vectors.txt (glove), bitte umbennen in `emb-glove-de-wiki.txt`\n",
    "* https://int-emb-word2vec-de-wiki.s3.eu-central-1.amazonaws.com/vectors.txt (word2vec), bitte umbennen in `emb-word2vec-de-wiki.txt`\n",
    "* https://s3.eu-central-1.amazonaws.com/int-emb-fasttext-de-wiki/20180917/model.bin (fastText), bitte umbennen in `emb-fasttext-de-wiki.bin`"
   ]
  },
  {
   "cell_type": "markdown",
   "metadata": {},
   "source": [
    "Wenn du Colab nutzt, musst du nichts tun. Ansonsten lade dir bitt die Dateien aus den Links oben herunter und bennene sie wie oben beschrieben um."
   ]
  },
  {
   "cell_type": "code",
   "execution_count": null,
   "metadata": {},
   "outputs": [],
   "source": [
    "if ON_COLAB:\n",
    "    os.system(\"test -f emb-glove-de-wiki.txt || wget -O emb-glove-de-wiki.txt https://int-emb-glove-de-wiki.s3.eu-central-1.amazonaws.com/vectors.txt\")\n",
    "    os.system(\"test -f emb-word2vec-de-wiki.txt || wget -O emb-word2vec-de-wiki.txt https://int-emb-word2vec-de-wiki.s3.eu-central-1.amazonaws.com/vectors.txt\")\n",
    "    os.system(\"test -f emb-fasttext-de-wiki.bin || wget -O emb-fasttext-de-wiki.bin https://s3.eu-central-1.amazonaws.com/int-emb-fasttext-de-wiki/20180917/model.bin\")"
   ]
  },
  {
   "cell_type": "markdown",
   "metadata": {},
   "source": [
    "### glove"
   ]
  },
  {
   "cell_type": "markdown",
   "metadata": {},
   "source": [
    "Das Glove-Modell funktioniert prima, du kannst dir die Daten einfach herunterladen und damit Ähnlichkeiten herausfinden:"
   ]
  },
  {
   "cell_type": "code",
   "execution_count": null,
   "metadata": {},
   "outputs": [],
   "source": [
    "!pip install \"gensim>=4.0.0\""
   ]
  },
  {
   "cell_type": "code",
   "execution_count": null,
   "metadata": {},
   "outputs": [],
   "source": [
    "from gensim.models import KeyedVectors\n",
    "emb_glove = KeyedVectors.load_word2vec_format(\"emb-glove-de-wiki.txt\", no_header=True)"
   ]
  },
  {
   "cell_type": "markdown",
   "metadata": {},
   "source": [
    "Ähnlichkeiten kannst du nun ganz einfach ermitteln:"
   ]
  },
  {
   "cell_type": "code",
   "execution_count": null,
   "metadata": {},
   "outputs": [],
   "source": [
    "emb_glove.similar_by_word(\"apfel\")"
   ]
  },
  {
   "cell_type": "markdown",
   "metadata": {},
   "source": [
    "Die Analogieschlüsse funktionieren nicht so gut wie mit dem Facebook-`fasttext` oben:"
   ]
  },
  {
   "cell_type": "code",
   "execution_count": null,
   "metadata": {},
   "outputs": [],
   "source": [
    "emb_glove.most_similar(positive=[\"frau\", \"könig\"], negative=[\"mann\"], topn=10)"
   ]
  },
  {
   "cell_type": "code",
   "execution_count": null,
   "metadata": {},
   "outputs": [],
   "source": [
    "emb_glove.most_similar(positive=[\"frau\", \"onkel\"], negative=[\"mann\"], topn=10)"
   ]
  },
  {
   "cell_type": "code",
   "execution_count": null,
   "metadata": {},
   "outputs": [],
   "source": [
    "# Speicher freigeben für Colab\n",
    "del emb_glove"
   ]
  },
  {
   "cell_type": "markdown",
   "metadata": {},
   "source": [
    "## word2vec"
   ]
  },
  {
   "cell_type": "markdown",
   "metadata": {},
   "source": [
    "Das `word2vec`-Modell ist leider sehr ungünstig kodiert. Zumindest die aktuellen `gensim`-Versionen verstehen die Encodings nicht mehr richtig, daher musst du ein bisschen jonglieren."
   ]
  },
  {
   "cell_type": "code",
   "execution_count": null,
   "metadata": {},
   "outputs": [],
   "source": [
    "emb_w2v = KeyedVectors.load_word2vec_format(\"emb-word2vec-de-wiki.txt\", no_header=True)"
   ]
  },
  {
   "cell_type": "markdown",
   "metadata": {},
   "source": [
    "Die Wörter sind \"binär\" kodiert, das musst du nun simulieren:"
   ]
  },
  {
   "cell_type": "code",
   "execution_count": null,
   "metadata": {},
   "outputs": [],
   "source": [
    "emb_w2v.similar_by_word(\"b'apfel'\")"
   ]
  },
  {
   "cell_type": "code",
   "execution_count": null,
   "metadata": {},
   "outputs": [],
   "source": [
    "emb_w2v.similar_by_word(\"b'frau'\")"
   ]
  },
  {
   "cell_type": "markdown",
   "metadata": {},
   "source": [
    "Die Analogieschlüsse funktionieren leider nicht besonders gut:"
   ]
  },
  {
   "cell_type": "code",
   "execution_count": null,
   "metadata": {},
   "outputs": [],
   "source": [
    "emb_w2v.most_similar(positive=[\"b'frau'\", \"b'k\\\\xc3\\\\xb6nig'\"], negative=[\"b'mann'\"], topn=10)"
   ]
  },
  {
   "cell_type": "code",
   "execution_count": null,
   "metadata": {},
   "outputs": [],
   "source": [
    "emb_w2v.most_similar(positive=[\"b'frau'\", \"b'onkel'\"], negative=[\"b'mann'\"], topn=10)"
   ]
  },
  {
   "cell_type": "code",
   "execution_count": null,
   "metadata": {},
   "outputs": [],
   "source": [
    "# Speicher freigeben für Colab\n",
    "del emb_w2v"
   ]
  },
  {
   "cell_type": "markdown",
   "metadata": {},
   "source": [
    "### FastText"
   ]
  },
  {
   "cell_type": "markdown",
   "metadata": {},
   "source": [
    "Das fastText-Modell funktioniert ähnlich gut wie das von Facebook mit Common Crawl trainierte:"
   ]
  },
  {
   "cell_type": "code",
   "execution_count": null,
   "metadata": {},
   "outputs": [],
   "source": [
    "emb_ft = fasttext.load_model(\"emb-fasttext-de-wiki.bin\")"
   ]
  },
  {
   "cell_type": "code",
   "execution_count": null,
   "metadata": {},
   "outputs": [],
   "source": [
    "emb_ft.get_nearest_neighbors(\"apfel\")"
   ]
  },
  {
   "cell_type": "markdown",
   "metadata": {},
   "source": [
    "Die Analogieschlüsse klappen im Original-Modell deutlich besser:"
   ]
  },
  {
   "cell_type": "code",
   "execution_count": null,
   "metadata": {},
   "outputs": [],
   "source": [
    "emb_ft.get_analogies(\"frau\", \"mann\", \"könig\")"
   ]
  },
  {
   "cell_type": "code",
   "execution_count": null,
   "metadata": {},
   "outputs": [],
   "source": [
    "emb_ft.get_analogies(\"frau\", \"mann\", \"onkel\")"
   ]
  },
  {
   "cell_type": "markdown",
   "metadata": {},
   "source": [
    "Allerdings solltest du mit Groß-/Kleinschreibung sehr vorsichtig sein, hier wurde nicht ganz sauber konvertiert:"
   ]
  },
  {
   "cell_type": "code",
   "execution_count": null,
   "metadata": {},
   "outputs": [],
   "source": [
    "emb_ft.get_nearest_neighbors(\"Apfel\")"
   ]
  },
  {
   "cell_type": "code",
   "execution_count": null,
   "metadata": {},
   "outputs": [],
   "source": [
    "# Speicher freigeben für Colab\n",
    "del emb_ft"
   ]
  },
  {
   "cell_type": "markdown",
   "metadata": {},
   "source": [
    "## Englischsprachige Embeddings"
   ]
  },
  {
   "cell_type": "markdown",
   "metadata": {},
   "source": [
    "Google stellt auch vortrainierte Embeddings zur Verfügung, die allerdings schon etwas älter sind: https://github.com/mmihaltz/word2vec-GoogleNews-vectors. Wenn du lokal arbeitest, lade dir die Wortvektoren bitte herunter. Unter Colab musst du selbst nichts machen.\n",
    "\n",
    "Sie lassen sich ohne Weiteres importieren:"
   ]
  },
  {
   "cell_type": "code",
   "execution_count": null,
   "metadata": {},
   "outputs": [],
   "source": [
    "if ON_COLAB:\n",
    "    os.system(\"test -f GoogleNews-vectors-negative300.bin || wget https://figshare.com/ndownloader/files/10798046 && mv 10798046 GoogleNews-vectors-negative300.bin\")"
   ]
  },
  {
   "cell_type": "code",
   "execution_count": null,
   "metadata": {},
   "outputs": [],
   "source": [
    "google_w2v = KeyedVectors.load_word2vec_format(\"GoogleNews-vectors-negative300.bin\", binary=True)"
   ]
  },
  {
   "cell_type": "markdown",
   "metadata": {},
   "source": [
    "Betrachtet nun die Ähnlichkeiten von `woman`:"
   ]
  },
  {
   "cell_type": "code",
   "execution_count": null,
   "metadata": {},
   "outputs": [],
   "source": [
    "google_w2v.similar_by_word(\"woman\")"
   ]
  },
  {
   "cell_type": "markdown",
   "metadata": {},
   "source": [
    "Die Analogieschlüsse funktionieren relativ gut:"
   ]
  },
  {
   "cell_type": "code",
   "execution_count": null,
   "metadata": {},
   "outputs": [],
   "source": [
    "google_w2v.most_similar(positive=[\"woman\", \"king\"], negative=[\"man\"], topn=10)"
   ]
  },
  {
   "cell_type": "code",
   "execution_count": null,
   "metadata": {},
   "outputs": [],
   "source": [
    "google_w2v.most_similar(positive=[\"woman\", \"uncle\"], negative=[\"man\"], topn=10)"
   ]
  },
  {
   "cell_type": "markdown",
   "metadata": {},
   "source": [
    "## Vorsicht bei externen Embeddings"
   ]
  },
  {
   "cell_type": "markdown",
   "metadata": {},
   "source": [
    "Externe Embeddings sind sehr nützlich, weil du dich nicht um Trainingsmengen kümmern musst. Du solltest allerdings etwas vorsichtig sein - nicht alle sind mit gleich guter Qualität trainiert. Insbesonders bei der Vorverarbeitung der Daten sind erhebliche Unterschiede vorhanden, das betrifft ganz speziell auch die Tokenisierung und die Groß-/Kleinschreibung.\n",
    "\n",
    "Wenn du das berücksichtigst und deine Anwendungsfälle daraufhin überprüfst, steht dir eine große, direkt verwendbare Datenmenge zur Verfügung!"
   ]
  }
 ],
 "metadata": {
  "kernelspec": {
   "display_name": "Python 3 (ipykernel)",
   "language": "python",
   "name": "python3"
  },
  "language_info": {
   "codemirror_mode": {
    "name": "ipython",
    "version": 3
   },
   "file_extension": ".py",
   "mimetype": "text/x-python",
   "name": "python",
   "nbconvert_exporter": "python",
   "pygments_lexer": "ipython3",
   "version": "3.10.4"
  },
  "varInspector": {
   "cols": {
    "lenName": 16,
    "lenType": 16,
    "lenVar": 40
   },
   "kernels_config": {
    "python": {
     "delete_cmd_postfix": "",
     "delete_cmd_prefix": "del ",
     "library": "var_list.py",
     "varRefreshCmd": "print(var_dic_list())"
    },
    "r": {
     "delete_cmd_postfix": ") ",
     "delete_cmd_prefix": "rm(",
     "library": "var_list.r",
     "varRefreshCmd": "cat(var_dic_list()) "
    }
   },
   "types_to_exclude": [
    "module",
    "function",
    "builtin_function_or_method",
    "instance",
    "_Feature"
   ],
   "window_display": false
  }
 },
 "nbformat": 4,
 "nbformat_minor": 4
}
