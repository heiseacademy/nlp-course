{
 "cells": [
  {
   "cell_type": "markdown",
   "metadata": {},
   "source": [
    "# Alternative Nutzung von Google Colab"
   ]
  },
  {
   "cell_type": "markdown",
   "metadata": {},
   "source": [
    "## Einfache Alternative"
   ]
  },
  {
   "cell_type": "markdown",
   "metadata": {},
   "source": [
    "Wenn du Jupyter (oder Python) auf deinem Computer nicht installieren kannst, weil dir z.B. entsprechende Rechte fehlen, kannst du trotzdem problemlos am NLP-Kurs teilnehmen. Google stellt *Colab* eine kostenlose Plattform zur Verfügung, in der sich alle Notebooks ausführen lassen."
   ]
  },
  {
   "cell_type": "markdown",
   "metadata": {},
   "source": [
    "## Registrierung notwendig"
   ]
  },
  {
   "cell_type": "markdown",
   "metadata": {},
   "source": [
    "Solltest du noch keinen Google-Account haben, ist eine einmalige Registrierung bei Google notwendig. Anschließend kannst du alle Notebooks direkt mit Links ausführen und brauchst dich um keine Installation zu kümmern.\n",
    "\n",
    "Wir passen die Notebooks so an, dass sie sich sowohl lokal als auch bei Colab ausführen lassen. Sollte einmal etwas nicht klappen, sag uns bitte auf jeden Fall Bescheid."
   ]
  },
  {
   "cell_type": "markdown",
   "metadata": {},
   "source": [
    "## Ausprobieren"
   ]
  },
  {
   "cell_type": "markdown",
   "metadata": {},
   "source": [
    "Probiere es einfach gleich aus und führe dieses Notebook bei Google Colab aus. Optisch wirst du ein paar Unterschiede zu Jupyter feststellen, die Bedienung ist aber sehr ähnlich."
   ]
  },
  {
   "cell_type": "code",
   "execution_count": null,
   "metadata": {},
   "outputs": [],
   "source": [
    "5+7"
   ]
  },
  {
   "cell_type": "markdown",
   "metadata": {},
   "source": [
    "Auch bei Colab können Grafiken direkt ins Notebook integriert werden:"
   ]
  },
  {
   "cell_type": "code",
   "execution_count": null,
   "metadata": {},
   "outputs": [],
   "source": [
    "import numpy as np\n",
    "import matplotlib.pyplot as plt\n",
    "x = np.linspace(start=-4, stop=4, num=100)"
   ]
  },
  {
   "cell_type": "code",
   "execution_count": null,
   "metadata": {},
   "outputs": [],
   "source": [
    "plt.plot(x, np.sin(x))\n",
    "plt.show()"
   ]
  },
  {
   "cell_type": "markdown",
   "metadata": {},
   "source": [
    "## Warum nicht nur in Colab?"
   ]
  },
  {
   "cell_type": "markdown",
   "metadata": {},
   "source": [
    "Nun liegt die Frage nahe, warum du überhaupt nicht ausschließlich auf Colab setzen sollst. Dafür gibt es tatsächlich einige Gründe:\n",
    "\n",
    "- Du kannst Daten nicht (oder nur mit einem gewissen Aufwand durch die Integration von *Google Drive*) persistent speichern\n",
    "- Bei jeden neuen Start des Notebooks wird ein neue Container gestartet und der ist *leer*\n",
    "- Du hast keine Kontrolle über die Python-Version\n",
    "- Grafikkarten stehen dir zwar zur Verfügung, aber hier ist es ein Vabanque-Spiel, welche Google dir gerade zuordnet\n",
    "- Willst du ein Projekt in den Live-Betrieb überführen, musst du dich doch mit einem eigenen Python 3 beschäftigen."
   ]
  },
  {
   "cell_type": "markdown",
   "metadata": {},
   "source": [
    "## Erweiterungen von Notebooks"
   ]
  },
  {
   "cell_type": "markdown",
   "metadata": {},
   "source": [
    "Erweiterungen stehen in Colab nur eingeschränkt zur Verfügung. Du musst mit dem auskommen, was Google für sinnvoll hält."
   ]
  }
 ],
 "metadata": {
  "kernelspec": {
   "display_name": "Python 3",
   "language": "python",
   "name": "python3"
  },
  "language_info": {
   "codemirror_mode": {
    "name": "ipython",
    "version": 3
   },
   "file_extension": ".py",
   "mimetype": "text/x-python",
   "name": "python",
   "nbconvert_exporter": "python",
   "pygments_lexer": "ipython3",
   "version": "3.8.5"
  },
  "varInspector": {
   "cols": {
    "lenName": 16,
    "lenType": 16,
    "lenVar": 40
   },
   "kernels_config": {
    "python": {
     "delete_cmd_postfix": "",
     "delete_cmd_prefix": "del ",
     "library": "var_list.py",
     "varRefreshCmd": "print(var_dic_list())"
    },
    "r": {
     "delete_cmd_postfix": ") ",
     "delete_cmd_prefix": "rm(",
     "library": "var_list.r",
     "varRefreshCmd": "cat(var_dic_list()) "
    }
   },
   "types_to_exclude": [
    "module",
    "function",
    "builtin_function_or_method",
    "instance",
    "_Feature"
   ],
   "window_display": false
  }
 },
 "nbformat": 4,
 "nbformat_minor": 4
}
