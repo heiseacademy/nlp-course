{
 "cells": [
  {
   "cell_type": "code",
   "execution_count": null,
   "metadata": {
    "id": "pBe3Qd0sxgIF"
   },
   "outputs": [],
   "source": [
    "!pip install textacy\n",
    "!python -m spacy download de_core_news_lg"
   ]
  },
  {
   "cell_type": "code",
   "execution_count": null,
   "metadata": {
    "id": "Pt0o3LGixgIG"
   },
   "outputs": [],
   "source": [
    "import spacy\n",
    "\n",
    "nlp = spacy.load(\"de_core_news_lg\")\n",
    "d1 = \"Die Redaktionen der Heise Medien wünschen ein friedliches und gesundes 2021.\"\n",
    "d2 = \"Mögen Ihre Hoffnungen erfüllt werden und Sie gesund bleiben oder werden.\"\n",
    "doc = nlp(d1 + \"\\n\" + d2)\n",
    "doc"
   ]
  },
  {
   "cell_type": "code",
   "execution_count": null,
   "metadata": {
    "id": "D3aBXxZwxgII",
    "scrolled": false
   },
   "outputs": [],
   "source": [
    "import pandas as pd\n",
    "\n",
    "res = []\n",
    "for token in doc:\n",
    "    res.append([token.text, token.lemma_, token.pos_, token.tag_, token.dep_,\n",
    "                token.is_alpha, token.is_stop])\n",
    "\n",
    "pd.DataFrame(res, columns=[\"Text\", \"Lemma\", \"POS\", \"Tag\", \"Dep\", \"Alpha?\", \"Stop?\"])"
   ]
  },
  {
   "cell_type": "code",
   "execution_count": null,
   "metadata": {
    "id": "5xraTYYfxgIK"
   },
   "outputs": [],
   "source": [
    "from spacy import displacy\n",
    "\n",
    "doc = nlp(d1)\n",
    "displacy.render(doc, style=\"dep\", jupyter=True)"
   ]
  },
  {
   "cell_type": "code",
   "execution_count": null,
   "metadata": {
    "id": "YSHpuKQ1xgIM"
   },
   "outputs": [],
   "source": [
    "import textacy"
   ]
  },
  {
   "cell_type": "code",
   "execution_count": null,
   "metadata": {
    "id": "y7LOE0OAxgIN"
   },
   "outputs": [],
   "source": [
    "de = textacy.load_spacy_lang(\"de_core_news_lg\")\n",
    "td1 = textacy.make_spacy_doc(d1, lang=de)\n",
    "td1._.preview"
   ]
  },
  {
   "cell_type": "code",
   "execution_count": null,
   "metadata": {
    "id": "H6BDWO2ZxgIN"
   },
   "outputs": [],
   "source": [
    "list(textacy.extract.ngrams(td1, 3, filter_stops=True, filter_punct=True, filter_nums=False))"
   ]
  },
  {
   "cell_type": "code",
   "execution_count": null,
   "metadata": {
    "id": "kzBqaV0_xgIO"
   },
   "outputs": [],
   "source": [
    "import textacy.text_stats\n",
    "ts = textacy.text_stats.TextStats(td1)"
   ]
  },
  {
   "cell_type": "code",
   "execution_count": null,
   "metadata": {
    "id": "J-5GD6xuxgIO"
   },
   "outputs": [],
   "source": [
    "ts.n_words, ts.n_syllables, ts.n_chars"
   ]
  },
  {
   "cell_type": "code",
   "execution_count": null,
   "metadata": {
    "id": "bTQPz5-QxgIP"
   },
   "outputs": [],
   "source": [
    "ts.flesch_kincaid_grade_level, ts.flesch_reading_ease"
   ]
  }
 ],
 "metadata": {
  "colab": {
   "name": "10-spaCy_und_Textacy.ipynb",
   "provenance": []
  },
  "kernelspec": {
   "display_name": "Python 3",
   "language": "python",
   "name": "python3"
  },
  "language_info": {
   "codemirror_mode": {
    "name": "ipython",
    "version": 3
   },
   "file_extension": ".py",
   "mimetype": "text/x-python",
   "name": "python",
   "nbconvert_exporter": "python",
   "pygments_lexer": "ipython3",
   "version": "3.8.5"
  },
  "varInspector": {
   "cols": {
    "lenName": 16,
    "lenType": 16,
    "lenVar": 40
   },
   "kernels_config": {
    "python": {
     "delete_cmd_postfix": "",
     "delete_cmd_prefix": "del ",
     "library": "var_list.py",
     "varRefreshCmd": "print(var_dic_list())"
    },
    "r": {
     "delete_cmd_postfix": ") ",
     "delete_cmd_prefix": "rm(",
     "library": "var_list.r",
     "varRefreshCmd": "cat(var_dic_list()) "
    }
   },
   "types_to_exclude": [
    "module",
    "function",
    "builtin_function_or_method",
    "instance",
    "_Feature"
   ],
   "window_display": false
  }
 },
 "nbformat": 4,
 "nbformat_minor": 1
}
