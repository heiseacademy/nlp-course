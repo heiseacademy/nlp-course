{
 "cells": [
  {
   "cell_type": "markdown",
   "metadata": {},
   "source": [
    "# Python und Jupyter als Plattform nutzen"
   ]
  },
  {
   "cell_type": "markdown",
   "metadata": {},
   "source": [
    "## Python als Programmiersprache"
   ]
  },
  {
   "cell_type": "markdown",
   "metadata": {},
   "source": [
    "Alle Beispielprogramm, die du im Laufe des Kurses sehen wirst, sind in *Python* geschrieben. Python ist eine sehr beliebte, einfach zu erlernende Programmiersprache.\n",
    "\n",
    "Außergewöhnlich bei Python sind die Einrückungen, die du für die Programmstruktur *zwingend benötigst*. "
   ]
  },
  {
   "cell_type": "code",
   "execution_count": null,
   "metadata": {},
   "outputs": [],
   "source": [
    "for i in range(10):\n",
    "    print(i)"
   ]
  },
  {
   "cell_type": "markdown",
   "metadata": {},
   "source": [
    "Es gibt keine anderen Strukturen wie `{` und `}` in C-ähnlichen Sprachen. Das zwingt dich zu einem sehr sauberen Programmcode. Mit falschen Einrückungen verursachst du Syntaxfehler: "
   ]
  },
  {
   "cell_type": "code",
   "execution_count": null,
   "metadata": {},
   "outputs": [],
   "source": [
    "for i in range(10):\n",
    "     print(i)\n",
    "     print(i)"
   ]
  },
  {
   "cell_type": "markdown",
   "metadata": {},
   "source": [
    "Die Einrückungen als einziges Strukturmerkmal haben allerdings nicht nur Vorteile: so sind z.B. Closures in Python relativ schwer implementierbar, das fällt in anderen Programmiersprachen etwas leichter."
   ]
  },
  {
   "cell_type": "markdown",
   "metadata": {},
   "source": [
    "Du kannst Python auch als objektorientierte Programmiersprache verwenden, allerdings ist das eher ein *Aufsatz* und nicht sehr gut in die Sprache selbst integriert. An vielen Stellen sieht man auch noch den urpsrünglichen, rein prozeduralen Charakter mit Toplevel-Funktionen wie `len`, `map`, `max` etc. Das ist in keiner modernen objektorientierten Programmiersprache so vorhanden. "
   ]
  },
  {
   "cell_type": "code",
   "execution_count": null,
   "metadata": {},
   "outputs": [],
   "source": [
    "len(\"hallo\")"
   ]
  },
  {
   "cell_type": "code",
   "execution_count": null,
   "metadata": {},
   "outputs": [],
   "source": [
    "\"hallo\".len()"
   ]
  },
  {
   "cell_type": "markdown",
   "metadata": {},
   "source": [
    "Anders als in (fast) allen anderen Programmiersprachen wird für Boolsche Operatoren ein einfaches `&` und `|` verwendet "
   ]
  },
  {
   "cell_type": "code",
   "execution_count": null,
   "metadata": {},
   "outputs": [],
   "source": [
    "5 == 6 | 5*5 == 25"
   ]
  },
  {
   "cell_type": "markdown",
   "metadata": {},
   "source": [
    "Auch die Präzedenzen der Operatoren sind anders als gewohnt, deswegen solltest du sicherheitshalber immer Klammern verwenden."
   ]
  },
  {
   "cell_type": "code",
   "execution_count": null,
   "metadata": {},
   "outputs": [],
   "source": [
    "(5 == 6) | (5*5 == 25)"
   ]
  },
  {
   "cell_type": "markdown",
   "metadata": {},
   "source": [
    "## Das Python-Ökosystem"
   ]
  },
  {
   "cell_type": "markdown",
   "metadata": {},
   "source": [
    "Python zeichnet sich durch sein sehr gut ausgebautes *Ökosystem* aus. Es gibt sehr viele Pakete für nahezu alle denkbaren Anforderungen. Im Laufe des Kurses wirst du intensiv mit `numpy`, `pandas` und `scikit-learn` arbeiten, die für dich als Basis-*Handwerkszeug* dienen. "
   ]
  },
  {
   "cell_type": "markdown",
   "metadata": {},
   "source": [
    "## Python auf dem Server"
   ]
  },
  {
   "cell_type": "markdown",
   "metadata": {},
   "source": [
    "Du kannst Python direkt auf der Kommandozeile verwenden und damit auch auf (fast) jedem Server (sogar einige *Microcontroller* wie der ESP8266 kannst du in der vereinfachten Variante *Micropython* programmieren). \n",
    "\n",
    "Da der Kurs interaktiv sein soll, konzentrieren wir uns auf *Jupyter* als Plattform."
   ]
  },
  {
   "cell_type": "markdown",
   "metadata": {},
   "source": [
    "## Jupyter als Plattform"
   ]
  },
  {
   "cell_type": "markdown",
   "metadata": {},
   "source": [
    "Jupyter ist eine web-basierte Anwendung, die selbst in Python geschrieben ist und das interaktive Ausführen sog. Zellen ermöglicht. Die Ergebnisse der Ausführung siehst du immer sofort, das ist sehr praktisch:"
   ]
  },
  {
   "cell_type": "code",
   "execution_count": null,
   "metadata": {},
   "outputs": [],
   "source": [
    "5+7"
   ]
  },
  {
   "cell_type": "markdown",
   "metadata": {},
   "source": [
    "Jupyter kann außerdem auch gleich Grafiken im Notebook darstellen:"
   ]
  },
  {
   "cell_type": "code",
   "execution_count": null,
   "metadata": {},
   "outputs": [],
   "source": [
    "import numpy as np\n",
    "import matplotlib.pyplot as plt\n",
    "x = np.linspace(start=-4, stop=4, num=100)"
   ]
  },
  {
   "cell_type": "code",
   "execution_count": null,
   "metadata": {},
   "outputs": [],
   "source": [
    "plt.plot(x, np.sin(x))\n",
    "plt.show()"
   ]
  },
  {
   "cell_type": "markdown",
   "metadata": {},
   "source": [
    "Du kannst Zellen in beliebiger Reihenfolge ausführen, was natürlich sehr nützlich ist, wenn eine Zelle einen fehler produziert hat. Es birgt aber auch eine gewisse Gefahr:"
   ]
  },
  {
   "cell_type": "code",
   "execution_count": null,
   "metadata": {},
   "outputs": [],
   "source": [
    "x = np.linspace(start=0, stop=1, num=100)\n",
    "plt.plot(x, np.exp(x))\n",
    "plt.show()"
   ]
  },
  {
   "cell_type": "markdown",
   "metadata": {},
   "source": [
    "## Andere Programmiersprachen"
   ]
  },
  {
   "cell_type": "markdown",
   "metadata": {},
   "source": [
    "Jupyter kann nicht nur mit Python verwendet werden, allerdings ist das die bei weitem am häufigsten verwendete Programmiersprache. Grundsätzlich lassen sich auch andere sog. *Kernels* in Jupyter integrieren, mit denen man dann auch SQL, Ruby und andere Programmiersprachen verwenden kann."
   ]
  },
  {
   "cell_type": "markdown",
   "metadata": {},
   "source": [
    "## Erweiterungen von Jupyter"
   ]
  },
  {
   "cell_type": "markdown",
   "metadata": {},
   "source": [
    "Jupyter bietet sehr viele Erweiterungen an, die in Python installiert werden können und dann in den Notebooks zur Verfügung stehen. Dazu gehören z.B. Pakete, die automatisch Inhaltsverzeichnisse erzeugen, aber auch Variablen-Inspektoren und Anbindungen an Debugger"
   ]
  }
 ],
 "metadata": {
  "kernelspec": {
   "display_name": "Python 3",
   "language": "python",
   "name": "python3"
  },
  "language_info": {
   "codemirror_mode": {
    "name": "ipython",
    "version": 3
   },
   "file_extension": ".py",
   "mimetype": "text/x-python",
   "name": "python",
   "nbconvert_exporter": "python",
   "pygments_lexer": "ipython3",
   "version": "3.8.5"
  },
  "varInspector": {
   "cols": {
    "lenName": 16,
    "lenType": 16,
    "lenVar": 40
   },
   "kernels_config": {
    "python": {
     "delete_cmd_postfix": "",
     "delete_cmd_prefix": "del ",
     "library": "var_list.py",
     "varRefreshCmd": "print(var_dic_list())"
    },
    "r": {
     "delete_cmd_postfix": ") ",
     "delete_cmd_prefix": "rm(",
     "library": "var_list.r",
     "varRefreshCmd": "cat(var_dic_list()) "
    }
   },
   "types_to_exclude": [
    "module",
    "function",
    "builtin_function_or_method",
    "instance",
    "_Feature"
   ],
   "window_display": false
  }
 },
 "nbformat": 4,
 "nbformat_minor": 4
}
