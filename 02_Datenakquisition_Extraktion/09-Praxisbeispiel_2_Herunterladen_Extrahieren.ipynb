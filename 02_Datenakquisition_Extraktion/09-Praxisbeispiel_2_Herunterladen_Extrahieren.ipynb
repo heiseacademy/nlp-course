{
 "cells": [
  {
   "cell_type": "code",
   "execution_count": null,
   "metadata": {},
   "outputs": [],
   "source": [
    "import sys, os\n",
    "ON_COLAB = 'google.colab' in sys.modules\n",
    "\n",
    "if ON_COLAB:\n",
    "    os.system(\"test -f urls-2020.txt || wget https://datanizing.com/heiseacademy/nlp-course/blob/main/99_Common/urls-2020.txt\")"
   ]
  },
  {
   "cell_type": "code",
   "execution_count": null,
   "metadata": {},
   "outputs": [],
   "source": [
    "urls = open(\"urls-2020.txt\").read().split(\"\\n\")"
   ]
  },
  {
   "cell_type": "code",
   "execution_count": null,
   "metadata": {},
   "outputs": [],
   "source": [
    "import os\n",
    "if not os.path.isdir(\"artikel\"):\n",
    "    os.mkdir(\"artikel\")"
   ]
  },
  {
   "cell_type": "code",
   "execution_count": null,
   "metadata": {},
   "outputs": [],
   "source": [
    "def article_filename(url):\n",
    "    c = url.split(\"/\")\n",
    "    return \"/\".join([\"artikel\", c[-1]])"
   ]
  },
  {
   "cell_type": "code",
   "execution_count": null,
   "metadata": {},
   "outputs": [],
   "source": [
    "!pip install tqdm"
   ]
  },
  {
   "cell_type": "code",
   "execution_count": null,
   "metadata": {},
   "outputs": [],
   "source": [
    "import requests\n",
    "from tqdm.auto import tqdm\n",
    "\n",
    "s = requests.Session()\n",
    "for u in tqdm(urls):\n",
    "    if u == '':\n",
    "        continue\n",
    "    filename = article_filename(u)\n",
    "    if not os.path.isfile(filename):\n",
    "        print(filename)\n",
    "        print(u)\n",
    "        r = s.get(\"https://www.heise.de\" + u)\n",
    "        open(filename, 'wb').write(r.content)    "
   ]
  },
  {
   "cell_type": "code",
   "execution_count": null,
   "metadata": {},
   "outputs": [],
   "source": [
    "import json\n",
    "from bs4 import BeautifulSoup\n",
    "res = []\n",
    "for u in tqdm(urls):\n",
    "    filename = article_filename(u)\n",
    "    html = open(filename).read()\n",
    "    soup = BeautifulSoup(html)\n",
    "    d = {}\n",
    "    d[\"title\"] = soup.h1.text.strip()\n",
    "    d[\"header\"] = soup.select_one(\"#meldung > div.article-layout__header-container > header > p\").text.strip()\n",
    "    d[\"author\"] = soup.select_one(\"a.redakteurskuerzel__link\").attrs[\"title\"]\n",
    "    d[\"text\"] = \"\\n\".join([p.text.strip() \n",
    "                            for p in soup.select(\"#meldung > div.article-layout__content-container > div > p\")])\n",
    "    d[\"keywords\"] = soup.find(\"meta\", {\"name\": \"keywords\"})[\"content\"]\n",
    "    ld = json.loads(soup.find(\"script\", type=\"application/ld+json\").string)\n",
    "    for k in [\"identifier\", \"url\", \"datePublished\", \"commentCount\"]:\n",
    "        d[k] = ld[k]\n",
    "    \n",
    "    res.append(d)"
   ]
  },
  {
   "cell_type": "code",
   "execution_count": null,
   "metadata": {},
   "outputs": [],
   "source": [
    "res = []\n",
    "for u in tqdm(urls):\n",
    "    try:\n",
    "        filename = article_filename(u)\n",
    "        html = open(filename).read()\n",
    "        soup = BeautifulSoup(html)\n",
    "    except:\n",
    "        # Datei nicht gefunden, invalides HTML etc.\n",
    "        continue\n",
    "    d = {}\n",
    "    d[\"title\"] = soup.h1.text.strip()\n",
    "    try:\n",
    "        d[\"header\"] = soup.select_one(\"#meldung > div.article-layout__header-container > header > p\").text.strip()\n",
    "    except:\n",
    "        pass\n",
    "    try:\n",
    "        d[\"author\"] = soup.select_one(\"a.redakteurskuerzel__link\").attrs[\"title\"]\n",
    "    except:\n",
    "        pass\n",
    "    d[\"text\"] = \"\\n\".join([p.text.strip() \n",
    "                            for p in soup.select(\"#meldung > div.article-layout__content-container > div > p\")])\n",
    "    try:\n",
    "        d[\"keywords\"] = soup.find(\"meta\", {\"name\": \"keywords\"})[\"content\"]\n",
    "    except:\n",
    "        pass\n",
    "    try:\n",
    "        ld = json.loads(soup.find(\"script\", type=\"application/ld+json\").string)\n",
    "        for k in [\"identifier\", \"url\", \"datePublished\", \"commentCount\"]:\n",
    "            d[k] = ld[0][k]\n",
    "    except:\n",
    "        pass\n",
    "    \n",
    "    res.append(d)"
   ]
  },
  {
   "cell_type": "code",
   "execution_count": null,
   "metadata": {},
   "outputs": [],
   "source": [
    "import pandas as pd\n",
    "articles = pd.DataFrame(res)\n",
    "len(articles)"
   ]
  },
  {
   "cell_type": "code",
   "execution_count": null,
   "metadata": {},
   "outputs": [],
   "source": [
    "articles[articles[\"identifier\"].isna()]"
   ]
  },
  {
   "cell_type": "code",
   "execution_count": null,
   "metadata": {},
   "outputs": [],
   "source": [
    "articles[articles[\"url\"].isna()]"
   ]
  },
  {
   "cell_type": "code",
   "execution_count": null,
   "metadata": {},
   "outputs": [],
   "source": [
    "articles = articles.dropna(subset=[\"identifier\"])\n",
    "len(articles)"
   ]
  },
  {
   "cell_type": "code",
   "execution_count": null,
   "metadata": {},
   "outputs": [],
   "source": [
    "articles = articles.drop_duplicates(subset=[\"identifier\"]).set_index(\"identifier\")\n",
    "articles.index = articles.index.astype(int)\n",
    "len(articles)"
   ]
  },
  {
   "cell_type": "code",
   "execution_count": null,
   "metadata": {},
   "outputs": [],
   "source": [
    "import sqlite3\n",
    "sql = sqlite3.connect(\"heise-articles-2020.db\")\n",
    "articles.to_sql(\"articles\", sql, index_label=\"id\", if_exists=\"replace\")"
   ]
  }
 ],
 "metadata": {
  "kernelspec": {
   "display_name": "Python 3",
   "language": "python",
   "name": "python3"
  },
  "language_info": {
   "codemirror_mode": {
    "name": "ipython",
    "version": 3
   },
   "file_extension": ".py",
   "mimetype": "text/x-python",
   "name": "python",
   "nbconvert_exporter": "python",
   "pygments_lexer": "ipython3",
   "version": "3.8.10"
  },
  "varInspector": {
   "cols": {
    "lenName": 16,
    "lenType": 16,
    "lenVar": 40
   },
   "kernels_config": {
    "python": {
     "delete_cmd_postfix": "",
     "delete_cmd_prefix": "del ",
     "library": "var_list.py",
     "varRefreshCmd": "print(var_dic_list())"
    },
    "r": {
     "delete_cmd_postfix": ") ",
     "delete_cmd_prefix": "rm(",
     "library": "var_list.r",
     "varRefreshCmd": "cat(var_dic_list()) "
    }
   },
   "types_to_exclude": [
    "module",
    "function",
    "builtin_function_or_method",
    "instance",
    "_Feature"
   ],
   "window_display": false
  }
 },
 "nbformat": 4,
 "nbformat_minor": 4
}
