{
 "cells": [
  {
   "cell_type": "markdown",
   "metadata": {},
   "source": [
    "# Extraktion von Textdaten aus Dokumenten\n"
   ]
  },
  {
   "cell_type": "markdown",
   "metadata": {},
   "source": [
    "## *Apache Tika* beherrscht interschiedliche Dokumenttypen"
   ]
  },
  {
   "cell_type": "markdown",
   "metadata": {},
   "source": [
    "Oft findest du Dokumente im HTML-Format - das ist allerdings bei weitem nicht immer der Fall.\n",
    "\n",
    "Mit [Apache Tika](http://tika.apache.org/) steht dir ein leistungsfähiges Tool zur Verfügung, das aus fast alle bekannten Dateiformaten den Textcontent extrahieren kann. Obwohl Tika in Java geschrieben ist, kannst du es as Python gut ansprechen. Das Paket selbst kümmert sich darum, alles notwendig zu installieren und einen Java-basierten Tika-Server zu starten, an den es dann die Anfragen schickt.\n",
    "\n",
    "Evtl. musst du `tika` zuerst mit `pip install tika` installieren, dann kannst du es direkt ausprobieren:"
   ]
  },
  {
   "cell_type": "code",
   "execution_count": null,
   "metadata": {},
   "outputs": [],
   "source": [
    "!pip install tika"
   ]
  },
  {
   "cell_type": "code",
   "execution_count": null,
   "metadata": {},
   "outputs": [],
   "source": [
    "import tika"
   ]
  },
  {
   "cell_type": "markdown",
   "metadata": {},
   "source": [
    "Nun startest du den Java-basierten Server und importierst den Parser:"
   ]
  },
  {
   "cell_type": "code",
   "execution_count": null,
   "metadata": {},
   "outputs": [],
   "source": [
    "tika.initVM()\n",
    "from tika import parser"
   ]
  },
  {
   "cell_type": "markdown",
   "metadata": {},
   "source": [
    "Jetzt kannst du alle von Tika unterstützen Dateiformat in Text wandeln"
   ]
  },
  {
   "cell_type": "markdown",
   "metadata": {},
   "source": [
    "## PDF-Dokumente"
   ]
  },
  {
   "cell_type": "markdown",
   "metadata": {},
   "source": [
    "Wenn du mit gescannten Dokumenten arbeitest, wird die oft das PDF- oder TIFF-Format begegnen. Dabei ist keineswegs gesichert, dass der Text dort überhaupt schon als solcher erkannt wurde. Häufig hast du es dann mit reinen Grafikdateien zu tun und eine Texterkennung (*OCR* - Optical Character Recognition) wurde noch gar nicht durchgeführt. Das OCR fehlerfrei durchzuführen ist eine ganz eigene Kunst, dazu kannst du Tools wie [Tesseract](https://github.com/tesseract-ocr) nutzen, die das übrigens auch mithilfe von Machine Learning erledigen.\n",
    "\n",
    "Wir gehen im Folgenden davon aus, dass deine PDF-Dokumente Text enthalten. Als Beispiel verwenden wir ein PDF-Dokument über die [Technische Architektur von GAIA-X](https://www.heise.de/downloads/18/2/9/0/6/1/1/7/gaia-x-technical-architecture.pdf), das wir zunächst herunterladen:"
   ]
  },
  {
   "cell_type": "code",
   "execution_count": null,
   "metadata": {},
   "outputs": [],
   "source": [
    "import requests\n",
    "\n",
    "pdf_filename = \"gaia-x-technical-architecture.pdf\"\n",
    "r = requests.get(f\"https://www.heise.de/downloads/18/2/9/0/6/1/1/7/{pdf_filename}\")\n",
    "open(pdf_filename, 'wb').write(r.content)"
   ]
  },
  {
   "cell_type": "markdown",
   "metadata": {},
   "source": [
    "Versuche nun, aus diesem PDF-Dokument mithilfe von Tika den Text zu extrahieren (es kann sein, dass das einen Augenblick dauert, weil zuerst der Tika-Server gestartet werden muss):"
   ]
  },
  {
   "cell_type": "code",
   "execution_count": null,
   "metadata": {},
   "outputs": [],
   "source": [
    "pdf_parsed = parser.from_file(pdf_filename)\n",
    "print(pdf_parsed[\"content\"])"
   ]
  },
  {
   "cell_type": "markdown",
   "metadata": {},
   "source": [
    "Der Text wird sehr gut aus dem Dokument herausgelöst, auch die Spalten werden korrekt erkannt. Allerdings findest du noch viele Formatierungsanweisungen wie Trennstriche, Absätze, Kopf- und Fußzeilen, Seitenzahlen etc. Diese lassen sich nur heuristisch entfernen.\n",
    "\n",
    "PDF-Dokumente haben meistens den Vorteil, dass du sie relativ einfach extrahieren kannst. Dafür musst du dir Mühe geben, den Text wieder richtig zusammenzusetzen."
   ]
  },
  {
   "cell_type": "markdown",
   "metadata": {},
   "source": [
    "Tika stellt dir auch Metadaten bereit:"
   ]
  },
  {
   "cell_type": "code",
   "execution_count": null,
   "metadata": {},
   "outputs": [],
   "source": [
    "pdf_parsed[\"metadata\"]"
   ]
  },
  {
   "cell_type": "markdown",
   "metadata": {},
   "source": [
    "Wie wir später sehen werden, spielen Metadaten in vielen Analysen eine große Rolle. Wenn du dich dafür interessiert, wie das Dokument erstellt wurde, findest du das in den Metadaten im Schlüssel `pdf:docinfo:creator_tool`. Besonders spannend sind aber auch die Zeitstempel wie `Creation-Date` oder der `Author`."
   ]
  },
  {
   "cell_type": "markdown",
   "metadata": {},
   "source": [
    "## Office-Dokumente"
   ]
  },
  {
   "cell_type": "markdown",
   "metadata": {},
   "source": [
    "Genau wie PDF-Dokumente kannst du auch Office-Dokumente mit Tika verarbeiten. Als Beispiel nutzen wir eine Vorlage für eine Seminararbeit der Uni Regensburg:"
   ]
  },
  {
   "cell_type": "code",
   "execution_count": null,
   "metadata": {},
   "outputs": [],
   "source": [
    "doc_filename = \"vorlage_sa.docx\"\n",
    "r = requests.get(f\"https://www.uni-regensburg.de/wirtschaftswissenschaften/wi-leist/medien/vorlagen/{doc_filename}\")\n",
    "open(doc_filename, 'wb').write(r.content)"
   ]
  },
  {
   "cell_type": "markdown",
   "metadata": {},
   "source": [
    "Das API ist "
   ]
  },
  {
   "cell_type": "code",
   "execution_count": null,
   "metadata": {},
   "outputs": [],
   "source": [
    "doc_parsed = parser.from_file(doc_filename)\n",
    "print(doc_parsed[\"content\"])"
   ]
  },
  {
   "cell_type": "code",
   "execution_count": null,
   "metadata": {},
   "outputs": [],
   "source": [
    "doc_parsed[\"metadata\"]"
   ]
  },
  {
   "cell_type": "markdown",
   "metadata": {},
   "source": [
    "## E-Mails"
   ]
  },
  {
   "cell_type": "markdown",
   "metadata": {},
   "source": [
    "Der Vollständigkeit halber solltest du wissen, dass sich mit Tika auch E-Mails extrahieren lassen, z.B. aus EML-Dateien. Das funktioniert sogar sehr gut, wir werden es hier allerdings nicht weiter betrachten, weil es durch die unterschiedlichen Arten des *Quotings* nahezu unmöglich ist, den \"reinen\" Text der E-Mail zu extrahieren."
   ]
  },
  {
   "cell_type": "markdown",
   "metadata": {},
   "source": [
    "## Apache Tika kann noch mehr"
   ]
  },
  {
   "cell_type": "markdown",
   "metadata": {},
   "source": [
    "Apache Tika kann noch weit mehr Dateiformate verarbeiten, teilweise bis weit zurück in die 1990er-Jahre oder sogar noch früher. Selbst Microsoft nutzt Tika zum Einlesen von Word-Dokumenten, die die neuen Word-Versionen nicht mehr verstehen."
   ]
  }
 ],
 "metadata": {
  "kernelspec": {
   "display_name": "Python 3",
   "language": "python",
   "name": "python3"
  },
  "language_info": {
   "codemirror_mode": {
    "name": "ipython",
    "version": 3
   },
   "file_extension": ".py",
   "mimetype": "text/x-python",
   "name": "python",
   "nbconvert_exporter": "python",
   "pygments_lexer": "ipython3",
   "version": "3.8.5"
  },
  "varInspector": {
   "cols": {
    "lenName": 16,
    "lenType": 16,
    "lenVar": 40
   },
   "kernels_config": {
    "python": {
     "delete_cmd_postfix": "",
     "delete_cmd_prefix": "del ",
     "library": "var_list.py",
     "varRefreshCmd": "print(var_dic_list())"
    },
    "r": {
     "delete_cmd_postfix": ") ",
     "delete_cmd_prefix": "rm(",
     "library": "var_list.r",
     "varRefreshCmd": "cat(var_dic_list()) "
    }
   },
   "types_to_exclude": [
    "module",
    "function",
    "builtin_function_or_method",
    "instance",
    "_Feature"
   ],
   "window_display": false
  }
 },
 "nbformat": 4,
 "nbformat_minor": 4
}
