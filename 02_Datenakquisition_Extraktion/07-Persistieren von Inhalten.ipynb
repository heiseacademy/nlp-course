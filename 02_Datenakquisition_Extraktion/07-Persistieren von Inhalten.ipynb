{
 "cells": [
  {
   "cell_type": "markdown",
   "metadata": {},
   "source": [
    "# Persistieren von Inhalten"
   ]
  },
  {
   "cell_type": "markdown",
   "metadata": {},
   "source": [
    "Du weißt jetzt bereits, wie du mit Python (HTML-) Dateien herunterladen und extrahieren kannst. Allerdings solltest du vermeiden, das jedesmal durchzuführen, wenn du Texte analysieren möchtest.\n",
    "\n",
    "Deswegen musst du die extrahieren Daten irgendwo abspeichern."
   ]
  },
  {
   "cell_type": "markdown",
   "metadata": {},
   "source": [
    "## Download von HTML-Dateien"
   ]
  },
  {
   "cell_type": "markdown",
   "metadata": {},
   "source": [
    "Im ersten Schritt lädst du nochmal die Seite https://www.heise.de/news/Guten-Rutsch-und-ein-gesundes-neues-Jahr-2021-5001311.html herunter, falls sie sich nicht schon in deinem Arbeitsverzeichnis befindet."
   ]
  },
  {
   "cell_type": "code",
   "execution_count": null,
   "metadata": {},
   "outputs": [],
   "source": [
    "import os\n",
    "import requests\n",
    "\n",
    "html_filename = \"Guten-Rutsch-und-ein-gesundes-neues-Jahr-2021-5001311.html\"\n",
    "if not os.path.isfile(html_filename):\n",
    "    print(\"download\")\n",
    "    r = requests.get(f\"https://www.heise.de/news/{html_filename}\")\n",
    "    open(html_filename, 'wb').write(r.content)"
   ]
  },
  {
   "cell_type": "markdown",
   "metadata": {},
   "source": [
    "Anschließend öffnest du die HTML-Datei, liest sie als Ganzes ein und übergibst den HTML-Code an `BeautifulSoup`. Nun hast du wieder ein `soup`-Objekt zur Verfügung, aus dem du die einzelnen Elemente anschließend extrahieren kannst:"
   ]
  },
  {
   "cell_type": "markdown",
   "metadata": {},
   "source": [
    "## Extraktion der HTML-Dateien"
   ]
  },
  {
   "cell_type": "code",
   "execution_count": null,
   "metadata": {},
   "outputs": [],
   "source": [
    "from bs4 import BeautifulSoup\n",
    "html = open(html_filename).read()\n",
    "soup = BeautifulSoup(html)"
   ]
  },
  {
   "cell_type": "markdown",
   "metadata": {},
   "source": [
    "Die extrahierten Daten sepicherst du am besten in einem `dict` ab:"
   ]
  },
  {
   "cell_type": "code",
   "execution_count": null,
   "metadata": {},
   "outputs": [],
   "source": [
    "d = {}"
   ]
  },
  {
   "cell_type": "markdown",
   "metadata": {},
   "source": [
    "Title, Header und Autor haben wir schon im letzten Schritt extrahiert:"
   ]
  },
  {
   "cell_type": "code",
   "execution_count": null,
   "metadata": {},
   "outputs": [],
   "source": [
    "d[\"title\"] = soup.h1.text.strip()\n",
    "d[\"header\"] = soup.select_one(\"#meldung > div.article-layout__header-container > header > p\").text.strip()\n",
    "d[\"author\"] = soup.select_one(\"a.redakteurskuerzel__link\").attrs[\"title\"]"
   ]
  },
  {
   "cell_type": "markdown",
   "metadata": {},
   "source": [
    "Ein bisschen komplizierter ist es mit dem Fließtext, weil der in einzelnen `<p>`-Tags steckt. Was du aus anderen Programmiersprachen als `map` kennst, schreibst du in Python als *List Comprehension* (und musst es von rechts nach links lesen). Achtung, `join` funktioniert in Python auch genau andersherum als in praktisch allen anderen Programmiersprachen und erfordert ein Array als *Parameter*. Die Absätze werden so mit *Linfeeds* voneinander getrennt"
   ]
  },
  {
   "cell_type": "code",
   "execution_count": null,
   "metadata": {},
   "outputs": [],
   "source": [
    "d[\"text\"] = \"\\n\".join([p.text.strip() \n",
    "                            for p in soup.select(\"#meldung > div.article-layout__content-container > div > p\")])"
   ]
  },
  {
   "cell_type": "markdown",
   "metadata": {},
   "source": [
    "Die Semistruktur aus `<script type=\"application/ld+json\">` kennst du auch schon. Wir übernehmen hier lediglich ein paar Schlüssel, du kannst das nach Wunsch einfach ergänzen:"
   ]
  },
  {
   "cell_type": "code",
   "execution_count": null,
   "metadata": {},
   "outputs": [],
   "source": [
    "import json\n",
    "ld = json.loads(soup.find(\"script\", type=\"application/ld+json\").string)\n",
    "for k in [\"identifier\", \"url\", \"datePublished\", \"commentCount\"]:\n",
    "    d[k] = ld[0][k]"
   ]
  },
  {
   "cell_type": "markdown",
   "metadata": {},
   "source": [
    "Jetzt kannst du dir das gesamte `dict` anschauen:"
   ]
  },
  {
   "cell_type": "code",
   "execution_count": null,
   "metadata": {},
   "outputs": [],
   "source": [
    "d"
   ]
  },
  {
   "cell_type": "markdown",
   "metadata": {},
   "source": [
    "Das sieht gut aus!"
   ]
  },
  {
   "cell_type": "markdown",
   "metadata": {},
   "source": [
    "## Umwandlung in einen `DataFrame`"
   ]
  },
  {
   "cell_type": "markdown",
   "metadata": {},
   "source": [
    "Du kannst das `dict` in einen `DataFrame` umwandeln. Bitte beachte, dass dafür eine Liste von `dict` verwendet werden muss. Diese besteht hier nur aus einem einzigen Element. Im gleichen Zug kannst du gleich `identifier` als *Index* für den `DataFrame` auswählen."
   ]
  },
  {
   "cell_type": "code",
   "execution_count": null,
   "metadata": {},
   "outputs": [],
   "source": [
    "import pandas as pd\n",
    "articles = pd.DataFrame([d]).set_index(\"identifier\")\n",
    "articles"
   ]
  },
  {
   "cell_type": "markdown",
   "metadata": {},
   "source": [
    "Die Darstellung ist nicht ganz optimal. Wenn du Spalte und Zeilen vertauschen willst, kannt du einfach `.T` (für *transpose*) an den `DataFrame` anhängen:"
   ]
  },
  {
   "cell_type": "code",
   "execution_count": null,
   "metadata": {},
   "outputs": [],
   "source": [
    "articles.T"
   ]
  },
  {
   "cell_type": "markdown",
   "metadata": {},
   "source": [
    "Jetzt wandelst du den `DataFrame` in CSV. Über die eingebauten Methoden geht das ganz einfach:"
   ]
  },
  {
   "cell_type": "code",
   "execution_count": null,
   "metadata": {},
   "outputs": [],
   "source": [
    "articles.to_csv()"
   ]
  },
  {
   "cell_type": "markdown",
   "metadata": {},
   "source": [
    "Das sieht wegen der Zeilenumbrüche leider nicht so übersichtlich aus. Oftmals ist es bei Textdaten daher eine besser Idee, wenn du JSON als Datenformat verwendest. Das heherrscht `pandas` auch:"
   ]
  },
  {
   "cell_type": "code",
   "execution_count": null,
   "metadata": {},
   "outputs": [],
   "source": [
    "articles.to_json(orient='records')"
   ]
  },
  {
   "cell_type": "markdown",
   "metadata": {},
   "source": [
    "Für die spätere Vearbeitung ist es oft sehr geschickt, wenn du alles in einer Datenbank abspeicherst, damit du auf deren  eingebaute Selektiosmechanismen zurückgreifen kannst. Dazu brauchst du keinen Datenbank-Server, sondern kannst das einfach mit `sqlite` erledigen:"
   ]
  },
  {
   "cell_type": "code",
   "execution_count": null,
   "metadata": {},
   "outputs": [],
   "source": [
    "import sqlite3\n",
    "sql = sqlite3.connect(\"heise-articles.db\")\n",
    "articles.to_sql(\"articles\", sql, index_label=\"id\", if_exists=\"replace\")"
   ]
  },
  {
   "cell_type": "markdown",
   "metadata": {},
   "source": [
    "Du solltest dich nicht vom Namen `sqlite` täuschen lassen. Damit ist lediglich gemeint, dass die Datenbank filebasier arbeitet und lediglich über eine eingeschränkte Menge an Datentypen verfügt.\n",
    "\n",
    "Die Selektionsmechnismen sind mit *(Recursive) Common Table Expressions*, *(Correlated) Subqueries* und *Window Functions* absolut auf dem Stand der Technik.\n",
    "\n",
    "Nebenbei bemerkt ist `sqlite` eine der am besten getesteten Bibliotheken und sicher mehrfach auf jedem Handy installiert."
   ]
  }
 ],
 "metadata": {
  "kernelspec": {
   "display_name": "Python 3",
   "language": "python",
   "name": "python3"
  },
  "language_info": {
   "codemirror_mode": {
    "name": "ipython",
    "version": 3
   },
   "file_extension": ".py",
   "mimetype": "text/x-python",
   "name": "python",
   "nbconvert_exporter": "python",
   "pygments_lexer": "ipython3",
   "version": "3.8.5"
  },
  "varInspector": {
   "cols": {
    "lenName": 16,
    "lenType": 16,
    "lenVar": 40
   },
   "kernels_config": {
    "python": {
     "delete_cmd_postfix": "",
     "delete_cmd_prefix": "del ",
     "library": "var_list.py",
     "varRefreshCmd": "print(var_dic_list())"
    },
    "r": {
     "delete_cmd_postfix": ") ",
     "delete_cmd_prefix": "rm(",
     "library": "var_list.r",
     "varRefreshCmd": "cat(var_dic_list()) "
    }
   },
   "types_to_exclude": [
    "module",
    "function",
    "builtin_function_or_method",
    "instance",
    "_Feature"
   ],
   "window_display": false
  }
 },
 "nbformat": 4,
 "nbformat_minor": 4
}
