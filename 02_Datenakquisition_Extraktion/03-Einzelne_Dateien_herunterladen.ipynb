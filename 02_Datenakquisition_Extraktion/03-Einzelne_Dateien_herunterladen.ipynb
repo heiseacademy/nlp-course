{
 "cells": [
  {
   "cell_type": "markdown",
   "metadata": {},
   "source": [
    "# Einzelne Dateien herunterladen"
   ]
  },
  {
   "cell_type": "markdown",
   "metadata": {},
   "source": [
    "In diesem Notebook wirst du lernen, einzelne Dateien mit dem *HTTP-* bzw. *HTTPS-Protokoll* herunterzuladen. In Python gibt es einige Möglichkeiten, das zu erledigen."
   ]
  },
  {
   "cell_type": "markdown",
   "metadata": {},
   "source": [
    "## Das HTTP-Protokoll"
   ]
  },
  {
   "cell_type": "markdown",
   "metadata": {},
   "source": [
    "HTTP ist ein zustandsloses TCP-Protokoll. Eine gute Beschreibung findest du bei [Wikipedia](https://de.wikipedia.org/wiki/Hypertext_Transfer_Protocol), von der uns besonders das [Protokoll selbst](https://de.wikipedia.org/wiki/Hypertext_Transfer_Protocol#/media/Datei:HTTP-Anfrage.svg) interessiert."
   ]
  },
  {
   "cell_type": "markdown",
   "metadata": {},
   "source": [
    "## Die `requests` Bibliothek"
   ]
  },
  {
   "cell_type": "markdown",
   "metadata": {},
   "source": [
    "Als Standard hat sich das `requests`-Paket durchgesetzt. Es wird gut gepflegt, es gibt öfter neue Versionen und es kann eigentlich alles, was du im Laufe des Kurses benötigen wirst. So kann `requests` gut mit Cookies umgehen, aber auch mit Authentisierung. Außerdem ist ein *Session-Management* eingebaut, dass du evtl. für zugangsbeschränkte Websites benötigst.\n",
    "\n",
    "In vielen Python-Installationen ist es schon enthalten, sonst kannst du es schnell mit `pip` installieren und importieren:"
   ]
  },
  {
   "cell_type": "code",
   "execution_count": null,
   "metadata": {},
   "outputs": [],
   "source": [
    "!pip install requests"
   ]
  },
  {
   "cell_type": "code",
   "execution_count": null,
   "metadata": {},
   "outputs": [],
   "source": [
    "import requests"
   ]
  },
  {
   "cell_type": "markdown",
   "metadata": {},
   "source": [
    "Das `requests`-Paket hat viele Methoden, wir benötigen am häufigst die `get`-Methode. Diese Methode wird auch aufgerufen, wenn du im Browser eine Seite aufrufst.\n",
    "\n",
    "Passenderweise laden wir mit `requests` die Homepage von Heise herunter:"
   ]
  },
  {
   "cell_type": "code",
   "execution_count": null,
   "metadata": {},
   "outputs": [],
   "source": [
    "r = requests.get('https://www.heise.de') "
   ]
  },
  {
   "cell_type": "markdown",
   "metadata": {},
   "source": [
    "`requests` kann dir mitteilen, welches die *echte URL* der Seite ist. Oben fehlte z.B. der `/` am Ende, den du jetzt in der URL siehst:"
   ]
  },
  {
   "cell_type": "code",
   "execution_count": null,
   "metadata": {},
   "outputs": [],
   "source": [
    "r.url"
   ]
  },
  {
   "cell_type": "markdown",
   "metadata": {},
   "source": [
    "Du kannst den Status-Code des Servers ganz einfach abfragen:"
   ]
  },
  {
   "cell_type": "code",
   "execution_count": null,
   "metadata": {},
   "outputs": [],
   "source": [
    "r.status_code"
   ]
  },
  {
   "cell_type": "markdown",
   "metadata": {},
   "source": [
    "`200` bedeutet, dass alles OK war. `404` würde der Server antworten, wenn die du eine falsche URL aufgerufen hast (ein sog. *Client error*, die alle die Form `4xx` haben). Solltest du einem Fehler in der Form `5xx` begegnen, hat der Server selbst ein Problem.\n",
    "\n",
    "Wie oben schon angesprochen, besteht die Antwort des Servers aus Header und Rumpf. Die Header hat `requests` schon in einem `dict` für dich organisiert:"
   ]
  },
  {
   "cell_type": "code",
   "execution_count": null,
   "metadata": {},
   "outputs": [],
   "source": [
    "r.headers"
   ]
  },
  {
   "cell_type": "markdown",
   "metadata": {},
   "source": [
    "Offenbar wurden die Daten bereits gepackt (`gzip`) übermittelt, das hat `requests` für dich erledigt und dabei Bandbreite eingespart.\n",
    "\n",
    "Der Rumpf kannst du mit der Methode `.content` ermitteln:"
   ]
  },
  {
   "cell_type": "code",
   "execution_count": null,
   "metadata": {},
   "outputs": [],
   "source": [
    "r.content"
   ]
  },
  {
   "cell_type": "markdown",
   "metadata": {},
   "source": [
    "Wenn du mehr Requests zum gleichen Server durchführen möchtest, ist eine `Session` eine sinnvolle Optimierung, da dann die TCP-Verbindung weiterverwendet werden kann und im Falle von HTTPS auch der Session-Key. Die Zeitersparnis kann ganz erheblich sein.\n",
    "\n",
    "Ohne `Session`:"
   ]
  },
  {
   "cell_type": "code",
   "execution_count": null,
   "metadata": {},
   "outputs": [],
   "source": [
    "%%time\n",
    "for i in range(100):\n",
    "    r = requests.get('https://www.heise.de/') "
   ]
  },
  {
   "cell_type": "markdown",
   "metadata": {},
   "source": [
    "Mit `Session`:"
   ]
  },
  {
   "cell_type": "code",
   "execution_count": null,
   "metadata": {},
   "outputs": [],
   "source": [
    "%%time\n",
    "s = requests.Session() \n",
    "for i in range(100):\n",
    "    r = s.get('https://www.heise.de/') "
   ]
  },
  {
   "cell_type": "markdown",
   "metadata": {},
   "source": [
    "## `requests` kann noch viel mehr"
   ]
  },
  {
   "cell_type": "markdown",
   "metadata": {},
   "source": [
    "Auch hier gilt: bisher hast du nur einen kleinen Teil der Möglichkeiten gesehen, über die `requests` verfügt. Neben *Client-Side-Zertifikaten*, *Prepared Requests* usw. schöpft `requests` schon viele Möglichkeiten des HTTP(S)-Protokolls aus. \n",
    "\n",
    "Deshalb solltest du bei Gelegenheit mal einen Blick auf die ganz ausgezeichnete [Dokumentation](https://requests.readthedocs.io/en/master/) werfen. Dort sind auch sehr viele Beispiele enthalten für häufige Anforderungen."
   ]
  },
  {
   "cell_type": "markdown",
   "metadata": {},
   "source": [
    "## Nicht immer `requests`"
   ]
  },
  {
   "cell_type": "markdown",
   "metadata": {},
   "source": [
    "Für den extremen Massendownload von Seiten kann es sinnvoll sein, auf CLI-Programme wie `wget` auszuweichen."
   ]
  }
 ],
 "metadata": {
  "kernelspec": {
   "display_name": "Python 3",
   "language": "python",
   "name": "python3"
  },
  "language_info": {
   "codemirror_mode": {
    "name": "ipython",
    "version": 3
   },
   "file_extension": ".py",
   "mimetype": "text/x-python",
   "name": "python",
   "nbconvert_exporter": "python",
   "pygments_lexer": "ipython3",
   "version": "3.8.5"
  },
  "varInspector": {
   "cols": {
    "lenName": 16,
    "lenType": 16,
    "lenVar": 40
   },
   "kernels_config": {
    "python": {
     "delete_cmd_postfix": "",
     "delete_cmd_prefix": "del ",
     "library": "var_list.py",
     "varRefreshCmd": "print(var_dic_list())"
    },
    "r": {
     "delete_cmd_postfix": ") ",
     "delete_cmd_prefix": "rm(",
     "library": "var_list.r",
     "varRefreshCmd": "cat(var_dic_list()) "
    }
   },
   "types_to_exclude": [
    "module",
    "function",
    "builtin_function_or_method",
    "instance",
    "_Feature"
   ],
   "window_display": false
  }
 },
 "nbformat": 4,
 "nbformat_minor": 4
}
