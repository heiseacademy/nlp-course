{
 "cells": [
  {
   "cell_type": "markdown",
   "metadata": {},
   "source": [
    "# Features, Vektoren und Matrizen"
   ]
  },
  {
   "cell_type": "markdown",
   "metadata": {},
   "source": [
    "Um mit Dokumenten Machine Learning Methoden nutzen zu können, müssen die einzelnen Dokumente zunächst in Zahlen umgewandelt werden. Du kannst dir leicht vorstellen, dass eine einzelne Zahl für ein Dokument nicht genügen wird, deswegen wird jedes Dokument auf einen *Vektor* abgebildet. Vektoren kennst du vielleicht noch aus dem Mathematik-Unterricht in der Schule."
   ]
  },
  {
   "cell_type": "markdown",
   "metadata": {},
   "source": [
    "## Vektoren: Dimensionen, Darstellung als Listen und Arrays"
   ]
  },
  {
   "cell_type": "markdown",
   "metadata": {},
   "source": [
    "Die Anzahl der Zahlen, aus der die Vektoren bestehen, heißen *Dimensionen*.  Häufig werden Vektoren in Python als *Liste* dargestellt:"
   ]
  },
  {
   "cell_type": "code",
   "execution_count": null,
   "metadata": {},
   "outputs": [],
   "source": [
    "v = [1, 2, 3, 4, 5]\n",
    "v"
   ]
  },
  {
   "cell_type": "markdown",
   "metadata": {},
   "source": [
    "Da du mit sehr großen Vektoren zu arbeiten wirst, wirst du es im Machine Learning hauptsächlich mit `numpy` und den dort verwendeten `np.arrray` zu tun haben:"
   ]
  },
  {
   "cell_type": "code",
   "execution_count": null,
   "metadata": {},
   "outputs": [],
   "source": [
    "import numpy as np\n",
    "a = np.array([1, 2, 3, 4, 5])\n",
    "a"
   ]
  },
  {
   "cell_type": "markdown",
   "metadata": {},
   "source": [
    "Das sieht sehr ähnlich aus wie die Liste, hat aber sehr viel weitergehende Eigenschaften. Eine Falle, in die du immer wieder tappen wirst, ist die Abfrage auf `None`:"
   ]
  },
  {
   "cell_type": "code",
   "execution_count": null,
   "metadata": {},
   "outputs": [],
   "source": [
    "if v != None:\n",
    "    print(\"Liste nicht leer\")"
   ]
  },
  {
   "cell_type": "code",
   "execution_count": null,
   "metadata": {},
   "outputs": [],
   "source": [
    "if a != None:\n",
    "    print(\"Array nicht leer\")"
   ]
  },
  {
   "cell_type": "markdown",
   "metadata": {},
   "source": [
    "Das liegt daran, dass `==` als *Selektionsoperator* für Elemente im Array fungiert. Die richtig Abfrage ist:"
   ]
  },
  {
   "cell_type": "code",
   "execution_count": null,
   "metadata": {},
   "outputs": [],
   "source": [
    "if a is not None:\n",
    "    print(\"Array nicht leer\")"
   ]
  },
  {
   "cell_type": "markdown",
   "metadata": {},
   "source": [
    "## Features und Matrizen"
   ]
  },
  {
   "cell_type": "markdown",
   "metadata": {},
   "source": [
    "Als Dimensionen werden bei Dokumenten sog. *Features* verwendet. Sehr häufig wirst du die Wörter der Dokumente als Features verwenden. Die Vektoren haben dann eine Dimension, die der Größe des gesamten Vokabulars aller Dokumente entspricht. Weil aus dem Gesamtvokabular immer nur relativ wenige Wörter pro Dokument verwendet werden, sind die einzelnen Dokument-Vektoren sehr dünn besetzt (*sparse*).\n",
    "\n",
    "`numpy` bzw. `scipy` bieten für solche Vektoren besonders effiziente Datenstrukturen an, die sog. *sparse matrices* (ein Vektor ist eine Matrix mit nur einer Zeilen bzw. Spalte). Es ist ein bisschen komplizierter, solche Matrizen aufzubauen, aber die Darstellung ist dann sehr effizient, wie du in dem (aus https://docs.scipy.org/doc/scipy/reference/sparse.html entliehenen) Beispiel siehst:"
   ]
  },
  {
   "cell_type": "code",
   "execution_count": null,
   "metadata": {},
   "outputs": [],
   "source": [
    "from scipy.sparse import lil_matrix\n",
    "from scipy.sparse.linalg import spsolve\n",
    "from numpy.linalg import solve, norm\n",
    "from numpy.random import rand\n",
    "\n",
    "A = lil_matrix((1000, 1000))\n",
    "A[0, 0:100] = rand(100)\n",
    "A[1, 100:200] = A[0, :100]\n",
    "A.setdiag(rand(1000))\n",
    "A = A.tocsr()\n",
    "A"
   ]
  },
  {
   "cell_type": "markdown",
   "metadata": {},
   "source": [
    "Die Matrix is 1000x1000 Elemente groß, davon sind aber nur 1.199 besetzt, nämlich in der ersten Zeile die ersten 100 Spalten, in der zweiten Zeile die Spalte 100-199 und die Diagonale. Weil das Element (0, 0) auch auf der Diagonale liegt, sind es nicht ganz 1.200 Elemente.\n",
    "\n",
    "Üblicherweise würde diese Matrix 1000x1000x8 Bytes Speicherplatz brauchen (8 Bytes für einen Float), also 8 MB. Wie viel braucht sie wirklich:"
   ]
  },
  {
   "cell_type": "code",
   "execution_count": null,
   "metadata": {},
   "outputs": [],
   "source": [
    "A.data.nbytes"
   ]
  },
  {
   "cell_type": "markdown",
   "metadata": {},
   "source": [
    "Das ist natürlich sehr viel weniger! Nur aus diesem Grund funktioniert das Machine Learning mit Texten überhaupt."
   ]
  },
  {
   "cell_type": "markdown",
   "metadata": {},
   "source": [
    "## Document-Term-Matrix"
   ]
  },
  {
   "cell_type": "markdown",
   "metadata": {},
   "source": [
    "Wenn du dir nun vorstellst, dass die (Zeilen-) Vektoren der individuellen Dokumente alle untereinander geschrieben werden, erhältst du die sog. Dokumenten-Term-Matrix.\n",
    "\n",
    "Ein üblicher Korpus kann leicht aus Millionen von Dokumenten bestehen und ein Vokabular von 100.000 oder mehr Worten enthalten. Hier hilft dann die oben erklärte *Sparse-Darstellung* der Matrix. Das wäre in einer *dichten Darstellung* für fast jeden Computer nämlich einfach zu groß."
   ]
  }
 ],
 "metadata": {
  "kernelspec": {
   "display_name": "Python 3",
   "language": "python",
   "name": "python3"
  },
  "language_info": {
   "codemirror_mode": {
    "name": "ipython",
    "version": 3
   },
   "file_extension": ".py",
   "mimetype": "text/x-python",
   "name": "python",
   "nbconvert_exporter": "python",
   "pygments_lexer": "ipython3",
   "version": "3.8.5"
  },
  "varInspector": {
   "cols": {
    "lenName": 16,
    "lenType": 16,
    "lenVar": 40
   },
   "kernels_config": {
    "python": {
     "delete_cmd_postfix": "",
     "delete_cmd_prefix": "del ",
     "library": "var_list.py",
     "varRefreshCmd": "print(var_dic_list())"
    },
    "r": {
     "delete_cmd_postfix": ") ",
     "delete_cmd_prefix": "rm(",
     "library": "var_list.r",
     "varRefreshCmd": "cat(var_dic_list()) "
    }
   },
   "types_to_exclude": [
    "module",
    "function",
    "builtin_function_or_method",
    "instance",
    "_Feature"
   ],
   "window_display": false
  }
 },
 "nbformat": 4,
 "nbformat_minor": 4
}
