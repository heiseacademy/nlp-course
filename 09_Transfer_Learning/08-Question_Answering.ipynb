{
 "cells": [
  {
   "cell_type": "code",
   "execution_count": null,
   "metadata": {},
   "outputs": [],
   "source": [
    "!pip install transformers"
   ]
  },
  {
   "cell_type": "code",
   "execution_count": null,
   "metadata": {},
   "outputs": [],
   "source": [
    "from transformers import pipeline\n",
    "\n",
    "model_name = \"Sahajtomar/German-question-answer-Electra\"\n",
    "qa = pipeline(\"question-answering\", model=model_name,\n",
    "              tokenizer=model_name, device=0)"
   ]
  },
  {
   "cell_type": "code",
   "execution_count": null,
   "metadata": {},
   "outputs": [],
   "source": [
    "text = \"\"\"Apple-Chef fordert klimaneutrale Wirtschaft\n",
    "\n",
    "Die \"Zukunft des Planeten\" und Profit schließen sich nicht aus, \n",
    "meint Tim Cook –  Konzerne und Regierungen sollten endlich die Kurve \n",
    "beim Klimaschutz kriegen.\n",
    "\n",
    "Apple-Chef Tim Cook hat Regierungen und Unternehmen dazu aufgerufen, \n",
    "sich gegen den Klimawandel zu stemmen. In diesem Moment \"historischer \n",
    "Dringlichkeit\" müssten Konzerne endlich handeln, betonte der Apple-Chef \n",
    "auf dem Climate Ambition Summit 2020, den die Vereinten Nationen gemeinsam \n",
    "mit mehreren Ländern ausrichteten. Apple sei es bei den eigenen Einrichtungen \n",
    "bereits gelungen, klimaneutral zu arbeiten. Auch der Ausstoß klimaschädlichen\n",
    "Kohlenstoffdioxids bei den Zulieferern soll drastisch reduziert werden.\n",
    "\n",
    "Man helfe aktuell 95 Zulieferern dabei, komplett auf erneuerbare Energien\n",
    "umzusatteln, so Cook. Das Unternehmen will bis 2030 vollständig klimaneutral \n",
    "arbeiten – die riesige Lieferkette eingerechnet.\n",
    "\n",
    "Man müsse sich nicht zwischen Unternehmensgewinnen und \"der Zukunft des \n",
    "Planeten\" entscheiden, erläuterte Cook, \"jede neue grüne Innovation\" sei \n",
    "der Beweis, das sich beides vereinbaren lässt. Der CEO rief andere Unternehmen \n",
    "dazu auf, 2021 beim Klimaschutz \"die Kurve zu kriegen\". Es sei möglich, \n",
    "gemeinsam den Übergang zu einer klimaneutralen Wirtschaft zu erreichen – \n",
    "wenn nicht länger nur \"an den Rändern\" herumgedoktort wird. Apple wolle \n",
    "ein \"Partner\" für diesen Übergang sein.\n",
    "\n",
    "Großbritannien, das den Klimagipfel mit ausrichtete, hatte Apple zuletzt \n",
    "wegen seines Geräte-Designs und der Reparaturvorgaben scharf kritisiert: \n",
    "Der iPhone-Hersteller sorge unnötig für zusätzlichen Elektroschrott durch \n",
    "immer schwerer zu reparierende Geräte, bei denen der Neukauf oft attraktiver \n",
    "als die Instandsetzung sei, beklagten britische Abgeordnete des \n",
    "Umweltausschusses im britischen Unterhaus. Apple zeigte sich \"enttäuscht\" \n",
    "über den Bericht, für Kunden gebe es mehr Reparatur- und Recycling-Optionen \n",
    "denn je.\n",
    "\n",
    "Apple will recyclete iPhones\n",
    "Cook betonte auf dem Klimagipfel auch, dass es Apples Ziel bleibe, keine \n",
    "neuen Rohstoffe mehr für die Produktion von Hardware fördern zu müssen, \n",
    "sondern in allen Bereichen auf Recycling zu setzen. Ein Zeitziel wurde \n",
    "hier nicht genannt. Apple betont seit längerem, saubere Energie könne \n",
    "langfristig auch wirtschaftlich sinnvoller für Konzerne sein. Andere \n",
    "US-IT-Riesen haben ebenfalls Klimaneutralität in Aussicht gestellt: \n",
    "Microsoft zielt ebenfalls auf das Jahr 2030 ab, Amazon auf 2040.\n",
    "\"\"\""
   ]
  },
  {
   "cell_type": "code",
   "execution_count": null,
   "metadata": {},
   "outputs": [],
   "source": [
    "answer = qa(question=\"Wer ist der Chef von Apple?\", context=text)\n",
    "print(f\"Answer: '{answer['answer']}', Score {answer['score']}\")"
   ]
  },
  {
   "cell_type": "code",
   "execution_count": null,
   "metadata": {},
   "outputs": [],
   "source": [
    "answer = qa(question=\"Was will Apple?\", context=text)\n",
    "print(f\"Answer: '{answer['answer']}', Score {answer['score']}\")"
   ]
  },
  {
   "cell_type": "code",
   "execution_count": null,
   "metadata": {},
   "outputs": [],
   "source": [
    "answer = qa(question=\"Wer richtete den Klimagipfel aus?\", context=text)\n",
    "print(f\"Answer: '{answer['answer']}', Score {answer['score']}\")"
   ]
  },
  {
   "cell_type": "code",
   "execution_count": null,
   "metadata": {},
   "outputs": [],
   "source": [
    "!pip install readability-lxml"
   ]
  },
  {
   "cell_type": "code",
   "execution_count": null,
   "metadata": {},
   "outputs": [],
   "source": [
    "from readability import Document\n",
    "import requests\n",
    "from bs4 import BeautifulSoup\n",
    "doc = Document(requests.get(\"https://de.wikipedia.org/wiki/Die_Simpsons\", stream=True).text)\n",
    "soup = BeautifulSoup(doc.summary())            \n",
    "content = soup.text\n",
    "len(content)"
   ]
  },
  {
   "cell_type": "code",
   "execution_count": null,
   "metadata": {},
   "outputs": [],
   "source": [
    "answer = qa(question=\"Wie heißt der Bruder von Lisa?\", context=content)\n",
    "print(f\"Answer: '{answer['answer']}', Score {answer['score']}\")"
   ]
  },
  {
   "cell_type": "code",
   "execution_count": null,
   "metadata": {},
   "outputs": [],
   "source": [
    "answer = qa(question=\"Wie heißen die Schwestern von Bart?\", context=content)\n",
    "print(f\"Answer: '{answer['answer']}', Score {answer['score']}\")"
   ]
  },
  {
   "cell_type": "code",
   "execution_count": null,
   "metadata": {},
   "outputs": [],
   "source": [
    "answer = qa(question=\"Wie heißen die Schwestern von Marge?\", context=content)\n",
    "print(f\"Answer: '{answer['answer']}', Score {answer['score']}\")"
   ]
  },
  {
   "cell_type": "code",
   "execution_count": null,
   "metadata": {},
   "outputs": [],
   "source": [
    "doc = Document(requests.get(\"https://de.wikipedia.org/wiki/Raumschiff_Enterprise\", stream=True).text)\n",
    "soup = BeautifulSoup(doc.summary())            \n",
    "content = soup.text\n",
    "len(content)"
   ]
  },
  {
   "cell_type": "code",
   "execution_count": null,
   "metadata": {},
   "outputs": [],
   "source": [
    "answer = qa(question=\"Wer spielt Spock?\", context=content)\n",
    "print(f\"Answer: '{answer['answer']}' with score {answer['score']}\")"
   ]
  },
  {
   "cell_type": "code",
   "execution_count": null,
   "metadata": {},
   "outputs": [],
   "source": [
    "answer = qa(question=\"Wer ist der Captain der Enterprise?\", context=content)\n",
    "\n",
    "print(f\"Answer: '{answer['answer']}' with score {answer['score']}\")"
   ]
  }
 ],
 "metadata": {
  "kernelspec": {
   "display_name": "Python 3 (ipykernel)",
   "language": "python",
   "name": "python3"
  },
  "language_info": {
   "codemirror_mode": {
    "name": "ipython",
    "version": 3
   },
   "file_extension": ".py",
   "mimetype": "text/x-python",
   "name": "python",
   "nbconvert_exporter": "python",
   "pygments_lexer": "ipython3",
   "version": "3.10.4"
  },
  "varInspector": {
   "cols": {
    "lenName": 16,
    "lenType": 16,
    "lenVar": 40
   },
   "kernels_config": {
    "python": {
     "delete_cmd_postfix": "",
     "delete_cmd_prefix": "del ",
     "library": "var_list.py",
     "varRefreshCmd": "print(var_dic_list())"
    },
    "r": {
     "delete_cmd_postfix": ") ",
     "delete_cmd_prefix": "rm(",
     "library": "var_list.r",
     "varRefreshCmd": "cat(var_dic_list()) "
    }
   },
   "types_to_exclude": [
    "module",
    "function",
    "builtin_function_or_method",
    "instance",
    "_Feature"
   ],
   "window_display": false
  }
 },
 "nbformat": 4,
 "nbformat_minor": 4
}
