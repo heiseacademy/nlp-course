{
 "cells": [
  {
   "cell_type": "code",
   "execution_count": null,
   "metadata": {},
   "outputs": [],
   "source": [
    "import requests\n",
    "model_filename = \"lid.176.ftz\"\n",
    "r = requests.get(f\"https://dl.fbaipublicfiles.com/fasttext/supervised-models/{model_filename}\")\n",
    "open(model_filename, 'wb').write(r.content)"
   ]
  },
  {
   "cell_type": "code",
   "execution_count": null,
   "metadata": {},
   "outputs": [],
   "source": [
    "!pip install fasttext"
   ]
  },
  {
   "cell_type": "code",
   "execution_count": null,
   "metadata": {},
   "outputs": [],
   "source": [
    "import fasttext\n",
    "lang_model = fasttext.load_model(model_filename)"
   ]
  },
  {
   "cell_type": "code",
   "execution_count": null,
   "metadata": {},
   "outputs": [],
   "source": [
    "lang_model.predict(\"comment tu t'appelles?\")"
   ]
  },
  {
   "cell_type": "code",
   "execution_count": null,
   "metadata": {},
   "outputs": [],
   "source": [
    "lang_model.predict(\"what's your name?\")"
   ]
  },
  {
   "cell_type": "code",
   "execution_count": null,
   "metadata": {},
   "outputs": [],
   "source": [
    "lang_model.predict(\"wie heißt du?\")"
   ]
  },
  {
   "cell_type": "code",
   "execution_count": null,
   "metadata": {},
   "outputs": [],
   "source": [
    "lang_model.predict(\"comment tu t'appelles?\", k=5)"
   ]
  },
  {
   "cell_type": "code",
   "execution_count": null,
   "metadata": {},
   "outputs": [],
   "source": [
    "from bs4 import BeautifulSoup\n",
    "soup = BeautifulSoup(requests.get(\"http://crism.maden.org/dunno.html\").content)"
   ]
  },
  {
   "cell_type": "code",
   "execution_count": null,
   "metadata": {},
   "outputs": [],
   "source": [
    "import regex as re\n",
    "ok = not_ok = 0\n",
    "for p in soup.select(\"p.translation\"):\n",
    "    text = p.text.strip().replace(\"\\n\", \" \")\n",
    "    try:\n",
    "        correct = re.sub(r\"\\-.*\", \"\", p.attrs[\"lang\"])\n",
    "    except:\n",
    "        correct = \"en\"\n",
    "    if correct != 'x':\n",
    "        l = lang_model.predict(text, k=2)\n",
    "        # Hauptsprache doppelt so wahrscheinlich wie zweite Wahl?\n",
    "        if l[1][0] > 2*l[1][1]:\n",
    "            predict = l[0][0].replace(\"__label__\", \"\")\n",
    "            if predict == correct:\n",
    "                ok += 1\n",
    "            else:\n",
    "                print(f\"Fehler bei '{text}'\")\n",
    "                print(f\"sollte {correct} sein, {predict} vorhergesagt\")\n",
    "                not_ok += 1\n",
    "\n",
    "print(f\"ok = {ok}, not ok = {not_ok}\")"
   ]
  }
 ],
 "metadata": {
  "kernelspec": {
   "display_name": "Python 3",
   "language": "python",
   "name": "python3"
  },
  "language_info": {
   "codemirror_mode": {
    "name": "ipython",
    "version": 3
   },
   "file_extension": ".py",
   "mimetype": "text/x-python",
   "name": "python",
   "nbconvert_exporter": "python",
   "pygments_lexer": "ipython3",
   "version": "3.8.5"
  },
  "varInspector": {
   "cols": {
    "lenName": 16,
    "lenType": 16,
    "lenVar": 40
   },
   "kernels_config": {
    "python": {
     "delete_cmd_postfix": "",
     "delete_cmd_prefix": "del ",
     "library": "var_list.py",
     "varRefreshCmd": "print(var_dic_list())"
    },
    "r": {
     "delete_cmd_postfix": ") ",
     "delete_cmd_prefix": "rm(",
     "library": "var_list.r",
     "varRefreshCmd": "cat(var_dic_list()) "
    }
   },
   "types_to_exclude": [
    "module",
    "function",
    "builtin_function_or_method",
    "instance",
    "_Feature"
   ],
   "window_display": false
  }
 },
 "nbformat": 4,
 "nbformat_minor": 4
}
