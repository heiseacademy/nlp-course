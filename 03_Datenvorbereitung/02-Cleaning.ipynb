{
 "cells": [
  {
   "cell_type": "markdown",
   "metadata": {},
   "source": [
    "# Data Cleaning"
   ]
  },
  {
   "cell_type": "markdown",
   "metadata": {},
   "source": [
    "Bevor du mit der Textanalyse beginnst, musst du die Daten in eine geeignete Form bringen. Dazu gehört leider auch das lästige *Aufräumen* der Daten.\n",
    "\n",
    "Die Datensätze kannst du stichprobenartig überprüfen. Wenn du dabei Ungereimtheiten feststellst, musst du ein Schema finden, mit denen du diese beseitigen kannst.\n",
    "\n",
    "Ein paar der häufigsten Probleme schauen wir uns in diesem Notebook an."
   ]
  },
  {
   "cell_type": "markdown",
   "metadata": {},
   "source": [
    "## Zeichensätze im Heise Newsticker"
   ]
  },
  {
   "cell_type": "markdown",
   "metadata": {
    "slideshow": {
     "slide_type": "slide"
    }
   },
   "source": [
    "Auf der Erde gibt es sehr viel Sprachen und einige haben auch ihre eigenen Zeichen. In der Anfangszeit der Computer wurde ein 7-bit-Zeichensatz ([ASCII](https://de.wikipedia.org/wiki/American_Standard_Code_for_Information_Interchange)) festgelegt, der für die englische Sprache aus ausgereichet hat.\n",
    "\n",
    "Für europäische Sprachen hat das aber nicht genügt, daher gab es viele Erweiterungen auf 8-bit, von denen besonders [ISO-8859](https://de.wikipedia.org/wiki/ISO_8859) wichtig ist, weil diese noch immer zum Einsatz kommt.\n",
    "\n",
    "Aber auch acht Bit haben langfristig nicht genügt, deswegen wurde gleich ein 32-Bit-Zeichensatz definiert, der sog. [Unicode](https://de.wikipedia.org/wiki/Unicode). Der Zeichenvorrat darin wird langfristig genügen.\n",
    "\n",
    "Unicode selbst hat wieder unterschiedliche Kodierungen, von denen heute aus verschiedenen Gründen primär [UTF-8](https://de.wikipedia.org/wiki/UTF-8) relevant ist. Es sollte also unser Ziel sein, alles in UTF-8 abszuspeichern bzw. Text in dieses Format zu wandeln.\n",
    "\n",
    "In Webseiten steht normalerweise die Kodierung im HTML-Header (oder sogar im HTTP-Header). Beim Heise-Newsticker-Artikel kannst du das überprüfen. Da du dazu auch die HTTP-Header-Informationen benötigst, musstdu die Seite nochmal herunterladen:"
   ]
  },
  {
   "cell_type": "code",
   "execution_count": null,
   "metadata": {},
   "outputs": [],
   "source": [
    "import requests\n",
    "r = requests.get('https://www.heise.de/news/Guten-Rutsch-und-ein-gesundes-neues-Jahr-2021-5001311.html')"
   ]
  },
  {
   "cell_type": "markdown",
   "metadata": {},
   "source": [
    "Du interessierst dich für den `Content-Type`: "
   ]
  },
  {
   "cell_type": "code",
   "execution_count": null,
   "metadata": {},
   "outputs": [],
   "source": [
    "r.headers[\"Content-Type\"]"
   ]
  },
  {
   "cell_type": "markdown",
   "metadata": {},
   "source": [
    "Das sieht also schon sehr gut aus, eine weitere Transformation ist nicht mehr notwendig. Oft steht das *Encoding* auch nochmal im HTML als `<meta charset>`:"
   ]
  },
  {
   "cell_type": "code",
   "execution_count": null,
   "metadata": {},
   "outputs": [],
   "source": [
    "from bs4 import BeautifulSoup\n",
    "soup = BeautifulSoup(r.content)\n",
    "soup.meta.get(\"charset\")"
   ]
  },
  {
   "cell_type": "markdown",
   "metadata": {},
   "source": [
    "Nicht immer muss das so einfach funktionieren, ab und zu ist das etwas versteckt. Eine gute Übersicht findest du unter https://stackoverflow.com/questions/18359007/trying-to-get-encoding-from-a-webpage-python-and-beautifulsoup"
   ]
  },
  {
   "cell_type": "markdown",
   "metadata": {},
   "source": [
    "## Zeichensätze erraten und transformieren"
   ]
  },
  {
   "cell_type": "markdown",
   "metadata": {},
   "source": [
    "Die Idee der Erklärung hier findest du auch unter https://www.tutorialspoint.com/beautiful_soup/beautiful_soup_encoding.htm\n",
    "\n",
    "Wir konstruieren nun ein Dokument, das ein \"falsches\" Encoding hat. Dazu müssen wir in Python das *binary encoding* verwenden und geben 8-bit-Zeichen in *griechisch* ein:"
   ]
  },
  {
   "cell_type": "code",
   "execution_count": null,
   "metadata": {},
   "outputs": [],
   "source": [
    "greek = b\"<h1>\\xed\\xe5\\xec\\xf9</h1>\"\n",
    "soup = BeautifulSoup(greek)\n",
    "soup.h1"
   ]
  },
  {
   "cell_type": "markdown",
   "metadata": {},
   "source": [
    "Das originale Encoding lässt sich auch feststellen:"
   ]
  },
  {
   "cell_type": "code",
   "execution_count": null,
   "metadata": {},
   "outputs": [],
   "source": [
    "soup.original_encoding"
   ]
  },
  {
   "cell_type": "markdown",
   "metadata": {},
   "source": [
    "`BeautifulSoup` hat diese Konvertierung für dich also bereits durchgeführt. Dazu hat `BeautifulSoup` aber \"gerraten\". Du kannst ein Encoding auch erzwingen:"
   ]
  },
  {
   "cell_type": "code",
   "execution_count": null,
   "metadata": {},
   "outputs": [],
   "source": [
    "soup = BeautifulSoup(greek, from_encoding=\"iso-8859-15\")\n",
    "soup.h1"
   ]
  },
  {
   "cell_type": "markdown",
   "metadata": {},
   "source": [
    "## Strings konvertieren"
   ]
  },
  {
   "cell_type": "markdown",
   "metadata": {},
   "source": [
    "Solltest du den Content nicht als HTML haben, kannst du die Konvertierung natürlich auch direkt in Python durchführen. Dein griechischer Text von oben ist ja kein echtes "
   ]
  },
  {
   "cell_type": "code",
   "execution_count": null,
   "metadata": {},
   "outputs": [],
   "source": [
    "greek.decode(\"utf-8\", \"strict\")"
   ]
  },
  {
   "cell_type": "code",
   "execution_count": null,
   "metadata": {},
   "outputs": [],
   "source": [
    "greek.decode(\"iso-8859-7\", \"strict\")"
   ]
  },
  {
   "cell_type": "markdown",
   "metadata": {},
   "source": [
    "## Fußzeilen entfernen"
   ]
  },
  {
   "cell_type": "markdown",
   "metadata": {},
   "source": [
    "Oft sind besonders in extrahierten PDF-Dokumenten Teile enthalten, die du nicht haben möchtest. In dem PDF von GAIA-X findest du z.B. Seitenzahlen und Copyright-Informationen:"
   ]
  },
  {
   "cell_type": "code",
   "execution_count": null,
   "metadata": {},
   "outputs": [],
   "source": [
    "text = \"\"\"Figure 7:  Schematic inheritance relations and properties for the top-level Self-Description  \n",
    "Schemas.\n",
    "\n",
    "© BMWi\n",
    "\n",
    "132  CORE ARCHITECTURE ELEMENTS\n",
    "\n",
    "2.5 Catalogue\n",
    "\n",
    "The concept Self-Description is the foundation of the \n",
    "federated GAIA-X Catalogues. Catalogues are the \n",
    "main building block for the publication and discovery \n",
    "of Self-Descriptions of Assets and Participants. To sat-\n",
    "isfy Consumer needs and to objectively find the best \n",
    "fitting offerings in the tangle of registered Assets, an \n",
    "open and transparent query algorithm is implemented \n",
    "without any GAIA-X internal ranking. Beside search \n",
    "functionality, a graph-based navigation interface is \n",
    "provided to traverse the complex tangle of offered \n",
    "Services, Nodes and linked Self-Descriptions, includ-\n",
    "ing the attached claims with chain of trust statements. \n",
    "Consumers can verify each Self-Description individu-\n",
    "ally and decide which one to select in a self-sovereign \n",
    "manner – GAIA-X does not act as a runtime interme-\n",
    "diary or broker.\n",
    "\"\"\""
   ]
  },
  {
   "cell_type": "markdown",
   "metadata": {},
   "source": [
    "Um diese entfernen zu können, arbeitest du am besten mit [*Regular Expressions*](https://de.wikipedia.org/wiki/Regul%C3%A4rer_Ausdruck). Python bietet dir dafür eine (leider nicht besonders gut integrierte) Bibliothek an, mit der du Ersetzungen durchführen kannst. Du löschst alle Zeilen, die nur mit Ziffern beginnen `[0-9]+` und anschließend ein Trennzeichen enthalten:"
   ]
  },
  {
   "cell_type": "code",
   "execution_count": null,
   "metadata": {},
   "outputs": [],
   "source": [
    "!pip install regex"
   ]
  },
  {
   "cell_type": "code",
   "execution_count": null,
   "metadata": {},
   "outputs": [],
   "source": [
    "# regex ist deutlich leistungsfähiger als re, aber kompatibel\n",
    "import regex as re\n",
    "text = re.sub(r'^[0-9]+\\s.*', '', text, flags=re.MULTILINE)\n",
    "print(text)"
   ]
  },
  {
   "cell_type": "markdown",
   "metadata": {},
   "source": [
    "Das `© BMWi` kannst du auch ganz leicht entfernen:"
   ]
  },
  {
   "cell_type": "code",
   "execution_count": null,
   "metadata": {},
   "outputs": [],
   "source": [
    "text = re.sub(r'^© BMWi.*', '', text, flags=re.MULTILINE)\n",
    "print(text)"
   ]
  },
  {
   "cell_type": "markdown",
   "metadata": {},
   "source": [
    "## Trennungen wiederherstellen"
   ]
  },
  {
   "cell_type": "markdown",
   "metadata": {},
   "source": [
    "Das sieht eigentlich schon ganz gut aus, jetzt müssen noch die Trennungen wieder zu ganzen Wörtern zusammengefügt werden. Der reguläre Ausdruck ist deutlich komplizierter. Über die Klammern wählst du zuerst Wörter aus, die am Ende der Zeile mit `-` enden, dann einen Umbruch haben, mit Kleinbuchstaben weitergehen und mit einem Trenner enden. Diese werden dann über die *Backreferences* (die den Inhalt der runden Klammern verwenden) wieder zusammengefügt:"
   ]
  },
  {
   "cell_type": "code",
   "execution_count": null,
   "metadata": {},
   "outputs": [],
   "source": [
    "text = re.sub(r'(\\s[\\w]+)\\-\\n(^[[:lower:]]\\w*\\s)', '\\g<1>\\g<2>', text, flags=re.MULTILINE)\n",
    "print(text)"
   ]
  },
  {
   "cell_type": "markdown",
   "metadata": {},
   "source": [
    "## Absätze zusammenführen"
   ]
  },
  {
   "cell_type": "markdown",
   "metadata": {},
   "source": [
    "Ab und zu wird es dir passieren, dass deine Dokumente zu lang sind und du lieber einzelne Absätze auswerten möchtest. Oft funktioniert das ganz gut, aber in dem obigen Dokument sind Zeilenumbrüche aus Layout-Gründen eingefügt, die gar keine Absätze voneinander trennen.\n",
    "\n",
    "Diese kannst du einfach mit `text.split(\"\\n\\n\")` zusammenführen. Um sicherzustellen, dass nicht unsichtbare Leerzeichen am Ende einer Zeile (oder in einer leeren Zeile stehen), ist die Lösung mit `re` etwas stabiler:"
   ]
  },
  {
   "cell_type": "code",
   "execution_count": null,
   "metadata": {},
   "outputs": [],
   "source": [
    "re.split('\\s*\\n\\s*\\n', text)"
   ]
  },
  {
   "cell_type": "markdown",
   "metadata": {},
   "source": [
    "## Tippfehler beseitigen"
   ]
  },
  {
   "cell_type": "markdown",
   "metadata": {},
   "source": [
    "Häufig wirst du Dokumenten begegnen, die Tippfehler enthalten. Damit ist nicht ganz einfach umzugehen, besonders bei nutzergeneriertem Content. Eine automatische Rechtschreibkorrektur (z.B. mit `aspell`) kann helfen, allerdings wird manchmal auch domnänenspezifisches Vokabular verwendet, das dadurch verfälscht wird."
   ]
  },
  {
   "cell_type": "markdown",
   "metadata": {},
   "source": [
    "## Dokumente in Form bringen"
   ]
  },
  {
   "cell_type": "markdown",
   "metadata": {},
   "source": [
    "Das PDF-Dokument hat nun eine bessere Form für die Auswertung bekommen, ist aber sicher nicht perfekt.\n",
    "\n",
    "Du solltest keinesfalls die Zeit für das *Cleaning* unterschätzen und auf jeden Fall mit einplanen, dass du auch zu späteren Zeitpunkten in der Verarbeitung noch Probleme im Cleaning erkennst und diesen Schritt dann nochmal ausführen musst."
   ]
  }
 ],
 "metadata": {
  "kernelspec": {
   "display_name": "Python 3",
   "language": "python",
   "name": "python3"
  },
  "language_info": {
   "codemirror_mode": {
    "name": "ipython",
    "version": 3
   },
   "file_extension": ".py",
   "mimetype": "text/x-python",
   "name": "python",
   "nbconvert_exporter": "python",
   "pygments_lexer": "ipython3",
   "version": "3.8.5"
  },
  "varInspector": {
   "cols": {
    "lenName": 16,
    "lenType": 16,
    "lenVar": 40
   },
   "kernels_config": {
    "python": {
     "delete_cmd_postfix": "",
     "delete_cmd_prefix": "del ",
     "library": "var_list.py",
     "varRefreshCmd": "print(var_dic_list())"
    },
    "r": {
     "delete_cmd_postfix": ") ",
     "delete_cmd_prefix": "rm(",
     "library": "var_list.r",
     "varRefreshCmd": "cat(var_dic_list()) "
    }
   },
   "types_to_exclude": [
    "module",
    "function",
    "builtin_function_or_method",
    "instance",
    "_Feature"
   ],
   "window_display": false
  }
 },
 "nbformat": 4,
 "nbformat_minor": 4
}
