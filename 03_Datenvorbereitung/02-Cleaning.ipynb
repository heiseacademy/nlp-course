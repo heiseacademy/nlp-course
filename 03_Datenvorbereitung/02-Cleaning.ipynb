{
 "cells": [
  {
   "cell_type": "code",
   "execution_count": null,
   "metadata": {},
   "outputs": [],
   "source": [
    "import requests\n",
    "r = requests.get('https://www.heise.de/news/Guten-Rutsch-und-ein-gesundes-neues-Jahr-2021-5001311.html')"
   ]
  },
  {
   "cell_type": "code",
   "execution_count": null,
   "metadata": {},
   "outputs": [],
   "source": [
    "r.headers[\"Content-Type\"]"
   ]
  },
  {
   "cell_type": "code",
   "execution_count": null,
   "metadata": {},
   "outputs": [],
   "source": [
    "from bs4 import BeautifulSoup\n",
    "soup = BeautifulSoup(r.content)\n",
    "soup.meta.get(\"charset\")"
   ]
  },
  {
   "cell_type": "code",
   "execution_count": null,
   "metadata": {},
   "outputs": [],
   "source": [
    "greek = b\"<h1>\\xed\\xe5\\xec\\xf9</h1>\"\n",
    "soup = BeautifulSoup(greek)\n",
    "soup.h1"
   ]
  },
  {
   "cell_type": "code",
   "execution_count": null,
   "metadata": {},
   "outputs": [],
   "source": [
    "soup.original_encoding"
   ]
  },
  {
   "cell_type": "code",
   "execution_count": null,
   "metadata": {},
   "outputs": [],
   "source": [
    "soup = BeautifulSoup(greek, from_encoding=\"iso-8859-15\")\n",
    "soup.h1"
   ]
  },
  {
   "cell_type": "code",
   "execution_count": null,
   "metadata": {},
   "outputs": [],
   "source": [
    "greek.decode(\"utf-8\", \"strict\")"
   ]
  },
  {
   "cell_type": "code",
   "execution_count": null,
   "metadata": {},
   "outputs": [],
   "source": [
    "greek.decode(\"iso-8859-7\", \"strict\")"
   ]
  },
  {
   "cell_type": "code",
   "execution_count": null,
   "metadata": {},
   "outputs": [],
   "source": [
    "text = \"\"\"Figure 7:  Schematic inheritance relations and properties for the top-level Self-Description  \n",
    "Schemas.\n",
    "\n",
    "© BMWi\n",
    "\n",
    "132  CORE ARCHITECTURE ELEMENTS\n",
    "\n",
    "2.5 Catalogue\n",
    "\n",
    "The concept Self-Description is the foundation of the \n",
    "federated GAIA-X Catalogues. Catalogues are the \n",
    "main building block for the publication and discovery \n",
    "of Self-Descriptions of Assets and Participants. To sat-\n",
    "isfy Consumer needs and to objectively find the best \n",
    "fitting offerings in the tangle of registered Assets, an \n",
    "open and transparent query algorithm is implemented \n",
    "without any GAIA-X internal ranking. Beside search \n",
    "functionality, a graph-based navigation interface is \n",
    "provided to traverse the complex tangle of offered \n",
    "Services, Nodes and linked Self-Descriptions, includ-\n",
    "ing the attached claims with chain of trust statements. \n",
    "Consumers can verify each Self-Description individu-\n",
    "ally and decide which one to select in a self-sovereign \n",
    "manner – GAIA-X does not act as a runtime interme-\n",
    "diary or broker.\n",
    "\"\"\""
   ]
  },
  {
   "cell_type": "code",
   "execution_count": null,
   "metadata": {},
   "outputs": [],
   "source": [
    "!pip install regex"
   ]
  },
  {
   "cell_type": "code",
   "execution_count": null,
   "metadata": {},
   "outputs": [],
   "source": [
    "# regex ist deutlich leistungsfähiger als re, aber kompatibel\n",
    "import regex as re\n",
    "text = re.sub(r'^[0-9]+\\s.*', '', text, flags=re.MULTILINE)\n",
    "print(text)"
   ]
  },
  {
   "cell_type": "code",
   "execution_count": null,
   "metadata": {},
   "outputs": [],
   "source": [
    "text = re.sub(r'^© BMWi.*', '', text, flags=re.MULTILINE)\n",
    "print(text)"
   ]
  },
  {
   "cell_type": "code",
   "execution_count": null,
   "metadata": {},
   "outputs": [],
   "source": [
    "text = re.sub(r'(\\s[\\w]+)\\-\\n(^[[:lower:]]\\w*\\s)', '\\g<1>\\g<2>', text, flags=re.MULTILINE)\n",
    "print(text)"
   ]
  },
  {
   "cell_type": "code",
   "execution_count": null,
   "metadata": {},
   "outputs": [],
   "source": [
    "re.split('\\s*\\n\\s*\\n', text)"
   ]
  }
 ],
 "metadata": {
  "kernelspec": {
   "display_name": "Python 3",
   "language": "python",
   "name": "python3"
  },
  "language_info": {
   "codemirror_mode": {
    "name": "ipython",
    "version": 3
   },
   "file_extension": ".py",
   "mimetype": "text/x-python",
   "name": "python",
   "nbconvert_exporter": "python",
   "pygments_lexer": "ipython3",
   "version": "3.8.5"
  },
  "varInspector": {
   "cols": {
    "lenName": 16,
    "lenType": 16,
    "lenVar": 40
   },
   "kernels_config": {
    "python": {
     "delete_cmd_postfix": "",
     "delete_cmd_prefix": "del ",
     "library": "var_list.py",
     "varRefreshCmd": "print(var_dic_list())"
    },
    "r": {
     "delete_cmd_postfix": ") ",
     "delete_cmd_prefix": "rm(",
     "library": "var_list.r",
     "varRefreshCmd": "cat(var_dic_list()) "
    }
   },
   "types_to_exclude": [
    "module",
    "function",
    "builtin_function_or_method",
    "instance",
    "_Feature"
   ],
   "window_display": false
  }
 },
 "nbformat": 4,
 "nbformat_minor": 4
}
