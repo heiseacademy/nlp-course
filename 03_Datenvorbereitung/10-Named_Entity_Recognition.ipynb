{
 "cells": [
  {
   "cell_type": "markdown",
   "metadata": {},
   "source": [
    "# Bestimmung von Entitäten"
   ]
  },
  {
   "cell_type": "markdown",
   "metadata": {},
   "source": [
    "In der Analyse natürlichsprachiger Texte spielen sog. *Entitäten* eine große Rolle. Das sind zusammengehörige Wörter, die entweder als feststehende Begriffe vorkommen (sog. *Named Entities*) oder in anderer Art und Weise zusammengehören.\n",
    "\n",
    "Häufig drücken Entitäten durch ihre spezifische Zusammensetzung gemeinsam mehr aus als die einzelnen Wörter alleine. Deswegen ist es für die Textanalyse wichtig, die Entitäten eines Textes möglichst vollständig zu erkennen."
   ]
  },
  {
   "cell_type": "markdown",
   "metadata": {},
   "source": [
    "## Datenbasis"
   ]
  },
  {
   "cell_type": "markdown",
   "metadata": {},
   "source": [
    "Wie üblich beginnst du wieder mit den beiden Absätzen aus der Neujahrsmeldung:"
   ]
  },
  {
   "cell_type": "code",
   "execution_count": null,
   "metadata": {},
   "outputs": [],
   "source": [
    "p1 = \"Doch das Ende des Jahres 2020 birgt auch Hoffnung, dass durch die Vakzinen \\\n",
    "gegen Covid-19 wieder Normalität einkehre – wie immer die auch aussehen mag \\\n",
    "– und wir uns um anderes Dringliches kümmern oder einfach entspannen \\\n",
    "können. Und dass durch den im Januar anstehenden Bewohnerwechsel im \\\n",
    "Weißen Haus zu Washington D.C. das offizielle Herumgetrumpel auf dem \\\n",
    "gesunden Menschenverstand ein Ende finden möge.\"\n",
    "\n",
    "p2 = \"Wir, das gesamte Team von heise online und die Redaktionen von c't, iX, \\\n",
    "Technology Review, Mac & i, c't Digitale Fotografie, Make:, Techstage und \\\n",
    "Telepolis sowie heise Security, heise Developer und heise Autos wünschen Ihnen \\\n",
    "ein friedliches und freudvolles Jahr 2021. Wir wünschen Ihnen, dass Sie nicht \\\n",
    "vergeblich hoffen und dass Ihre Vorsätze erfüllt werden, auf dass Sie gesund \\\n",
    "bleiben oder genesen.\""
   ]
  },
  {
   "cell_type": "markdown",
   "metadata": {},
   "source": [
    "Und lässt sie durch `spacy` analysieren, das auch *Named Entities* erkennt:"
   ]
  },
  {
   "cell_type": "code",
   "execution_count": null,
   "metadata": {},
   "outputs": [],
   "source": [
    "!pip install textacy\n",
    "!python -m spacy download de_core_news_lg"
   ]
  },
  {
   "cell_type": "code",
   "execution_count": null,
   "metadata": {},
   "outputs": [],
   "source": [
    "import spacy\n",
    "\n",
    "nlp = spacy.load(\"de_core_news_lg\")\n",
    "d1 = nlp(p1)\n",
    "d2 = nlp(p2)"
   ]
  },
  {
   "cell_type": "markdown",
   "metadata": {},
   "source": [
    "## Visualisierung der Entitäten"
   ]
  },
  {
   "cell_type": "markdown",
   "metadata": {},
   "source": [
    "mit `displacy` hat `spacy` ein tolles Modul zur Visualisierung, das du auch für *Named Entities* nutzen kannst. Schau dir die Enitäten im ersten Absatz damit an:"
   ]
  },
  {
   "cell_type": "code",
   "execution_count": null,
   "metadata": {
    "scrolled": false
   },
   "outputs": [],
   "source": [
    "from spacy import displacy\n",
    "\n",
    "displacy.render(d1, style=\"ent\", jupyter=True)"
   ]
  },
  {
   "cell_type": "markdown",
   "metadata": {},
   "source": [
    "Das hat schon gut funktioniert. Allerdings wurden einige Entitäten auch erkannt, die gar keine Sind (*Vakzinen*, *Bewohnerwechsel*, *Herumgetrumpel*). An der Erkennungsrate für *Named Entities* werden viele Sprachmodelle bewertet.\n",
    "\n",
    "Schau dir noch an, was aus dem zweiten Absatz herauskommt:"
   ]
  },
  {
   "cell_type": "code",
   "execution_count": null,
   "metadata": {},
   "outputs": [],
   "source": [
    "displacy.render(d2, style=\"ent\", jupyter=True)"
   ]
  },
  {
   "cell_type": "markdown",
   "metadata": {},
   "source": [
    "Das ist deutlich besser. Die Entitäten wurden fast alle erkannt (teilweise mit den falschen *Typen*), nut *c't Digitale Fototgrafie* und *Make:* waren unbekannt."
   ]
  },
  {
   "cell_type": "markdown",
   "metadata": {},
   "source": [
    "## Kombinationen von Wortarten als Entitäten"
   ]
  },
  {
   "cell_type": "markdown",
   "metadata": {},
   "source": [
    "Nicht immer genügen die die *Named Entities*. Manchmal willst du in einem Text auch zusammengehörige Begriffe finden, z.B. die Kombination aus Adjektiven und Substantiven. Das kannst du etwa zur Trenderkennung nutzen, wenn du dich z.B. für Farben oder Schnitte von Kleidungsstücken interessierst.\n",
    "\n",
    "Diese Kombinationen kann `spacy` alleine nicht bestimmen (bzw. nur über den *Dependency Tree*). `textacy` kann das für dich erledigen:"
   ]
  },
  {
   "cell_type": "code",
   "execution_count": null,
   "metadata": {},
   "outputs": [],
   "source": [
    "import textacy.extract\n",
    "\n",
    "spans = textacy.extract.token_matches(d1, patterns=[\"POS:ADJ POS:NOUN:+\"])\n",
    "print('|'.join([s.text for s in spans]))"
   ]
  },
  {
   "cell_type": "code",
   "execution_count": null,
   "metadata": {},
   "outputs": [],
   "source": [
    "spans = textacy.extract.token_matches(d2, patterns=[\"POS:ADJ POS:NOUN:+\"])\n",
    "print('|'.join([s.text for s in spans]))"
   ]
  },
  {
   "cell_type": "markdown",
   "metadata": {},
   "source": [
    "Mit den Varianten kannst du noch ein bisschen weiter spielen. `textacy` ist ziemlich flexibel und kann für die auch andere Kombinationen ermitteln -je nachdem, was du in einem Projekt benötigst."
   ]
  }
 ],
 "metadata": {
  "kernelspec": {
   "display_name": "Python 3",
   "language": "python",
   "name": "python3"
  },
  "language_info": {
   "codemirror_mode": {
    "name": "ipython",
    "version": 3
   },
   "file_extension": ".py",
   "mimetype": "text/x-python",
   "name": "python",
   "nbconvert_exporter": "python",
   "pygments_lexer": "ipython3",
   "version": "3.8.5"
  },
  "varInspector": {
   "cols": {
    "lenName": 16,
    "lenType": 16,
    "lenVar": 40
   },
   "kernels_config": {
    "python": {
     "delete_cmd_postfix": "",
     "delete_cmd_prefix": "del ",
     "library": "var_list.py",
     "varRefreshCmd": "print(var_dic_list())"
    },
    "r": {
     "delete_cmd_postfix": ") ",
     "delete_cmd_prefix": "rm(",
     "library": "var_list.r",
     "varRefreshCmd": "cat(var_dic_list()) "
    }
   },
   "types_to_exclude": [
    "module",
    "function",
    "builtin_function_or_method",
    "instance",
    "_Feature"
   ],
   "window_display": false
  }
 },
 "nbformat": 4,
 "nbformat_minor": 4
}
