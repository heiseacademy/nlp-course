{
 "cells": [
  {
   "cell_type": "markdown",
   "metadata": {},
   "source": [
    "# Dependency Tree und Noun Chunks"
   ]
  },
  {
   "cell_type": "markdown",
   "metadata": {},
   "source": [
    "Einzelne Wörter der Sätze hängen voneinander ab. Daher gibt es einen sog. *Abhängigkeitsbaum*. Diesen werden wir nun bestimmen.\n",
    "\n",
    "Mithilfe sog. *Noun Chunks* lassen sich grammatikalisch zusammengehörige Wörter herausfinden. Diese schauen wir uns anschließend an."
   ]
  },
  {
   "cell_type": "markdown",
   "metadata": {},
   "source": [
    "## Datenbasis"
   ]
  },
  {
   "cell_type": "markdown",
   "metadata": {},
   "source": [
    "Wie immer startest du wir mit den beiden Absätzen aus der Neujahrsmeldung:"
   ]
  },
  {
   "cell_type": "code",
   "execution_count": null,
   "metadata": {},
   "outputs": [],
   "source": [
    "p1 = \"Doch das Ende des Jahres 2020 birgt auch Hoffnung, dass durch die Vakzinen \\\n",
    "gegen Covid-19 wieder Normalität einkehre – wie immer die auch aussehen mag \\\n",
    "– und wir uns um anderes Dringliches kümmern oder einfach entspannen \\\n",
    "können. Und dass durch den im Januar anstehenden Bewohnerwechsel im \\\n",
    "Weißen Haus zu Washington D.C. das offizielle Herumgetrumpel auf dem \\\n",
    "gesunden Menschenverstand ein Ende finden möge.\"\n",
    "\n",
    "p2 = \"Wir, das gesamte Team von heise online und die Redaktionen von c't, iX, \\\n",
    "Technology Review, Mac & i, c't Digitale Fotografie, Make:, Techstage und \\\n",
    "Telepolis sowie heise Security, heise Developer und heise Autos wünschen Ihnen \\\n",
    "ein friedliches und freudvolles Jahr 2021. Wir wünschen Ihnen, dass Sie nicht \\\n",
    "vergeblich hoffen und dass Ihre Vorsätze erfüllt werden, auf dass Sie gesund \\\n",
    "bleiben oder genesen.\""
   ]
  },
  {
   "cell_type": "markdown",
   "metadata": {},
   "source": [
    "Und lässt die durch `spacy` analysieren:"
   ]
  },
  {
   "cell_type": "code",
   "execution_count": null,
   "metadata": {},
   "outputs": [],
   "source": [
    "!pip install textacy\n",
    "!python -m spacy download de_core_news_lg"
   ]
  },
  {
   "cell_type": "code",
   "execution_count": null,
   "metadata": {},
   "outputs": [],
   "source": [
    "import spacy\n",
    "\n",
    "nlp = spacy.load(\"de_core_news_lg\")\n",
    "d1 = nlp(p1)\n",
    "d2 = nlp(p2)"
   ]
  },
  {
   "cell_type": "markdown",
   "metadata": {},
   "source": [
    "## Satzanalyse und Interpretation der Abhängigkeiten"
   ]
  },
  {
   "cell_type": "markdown",
   "metadata": {},
   "source": [
    "In der linguistischen Analyse hat `spacy` auch die Satzglieder und deren Abhängigkeit bestimmt. *Satzglied* ist hier mit etwas Vorsicht zu genießen, da `spacy` das für jeden Token bestimmt, welche Funktion er im Satz erfüllt. Ein Satzglied (wie im Deutschunterricht) kann allerdings durchaus aus mehreren Wörtern (Tokens) bestehen.\n",
    "\n",
    "Als erstes schreibst du eine Funktion, die für jeden Token seine Stellung im Satz und die Abhängigkeit zu einem anderen Satzglied ermittelt:"
   ]
  },
  {
   "cell_type": "code",
   "execution_count": null,
   "metadata": {},
   "outputs": [],
   "source": [
    "import pandas as pd\n",
    "\n",
    "pd.set_option(\"max.rows\", None)\n",
    "pd.set_option('display.max_colwidth', None)\n",
    "\n",
    "def dep(d):\n",
    "    res = []\n",
    "    for token in d:\n",
    "        res.append((token.text, token.dep_, token.head.dep_))\n",
    "\n",
    "    return pd.DataFrame(res, columns=[\"Text\", \"Dep\", \"Head Dep\"])"
   ]
  },
  {
   "cell_type": "markdown",
   "metadata": {},
   "source": [
    "Da die Sätze sehr lang sind, schaust du dir zuerst den zweiten Satz des ersten Absatzes an:"
   ]
  },
  {
   "cell_type": "code",
   "execution_count": null,
   "metadata": {},
   "outputs": [],
   "source": [
    "dep11 = dep(list(d1.sents)[1])\n",
    "dep11"
   ]
  },
  {
   "cell_type": "markdown",
   "metadata": {},
   "source": [
    "Das Ergebnis sieht etwas unübersichtlich aus. Am einfachsten beginnst du bei dem Wert `ROOT` im `Dep`-Feld. Das ist die *Wurzel* des Satzes. Dann kannst du nachsehen, welche anderen Tokens direkt mit der Wurzel zusammenhängen, diese haben dann `ROOT` im Feld `Head Dep`:"
   ]
  },
  {
   "cell_type": "code",
   "execution_count": null,
   "metadata": {},
   "outputs": [],
   "source": [
    "dep11[(dep11[\"Dep\"] == \"ROOT\") | (dep11[\"Head Dep\"] == \"ROOT\")]"
   ]
  },
  {
   "cell_type": "markdown",
   "metadata": {},
   "source": [
    "So kannst du dich weiter durch den Satz bewegen."
   ]
  },
  {
   "cell_type": "markdown",
   "metadata": {},
   "source": [
    "`spacy.explain` kann dir auch bei der Interpretation der *Dep*-Felder helfen:"
   ]
  },
  {
   "cell_type": "code",
   "execution_count": null,
   "metadata": {},
   "outputs": [],
   "source": [
    "res = []\n",
    "for d in dep11[\"Dep\"].unique():\n",
    "    res.append({\"Dep\": d, \"Explanation\": spacy.explain(d)})\n",
    "pd.DataFrame(res)"
   ]
  },
  {
   "cell_type": "markdown",
   "metadata": {},
   "source": [
    "## Visualisierung"
   ]
  },
  {
   "cell_type": "markdown",
   "metadata": {},
   "source": [
    "Mithilfe von `displacy` kannst du den Abhängkeitsbaum auch direkt visualisieren. Bei längeren Dokumenten funktioniert das leider nur eingeschränkt gut:"
   ]
  },
  {
   "cell_type": "code",
   "execution_count": null,
   "metadata": {},
   "outputs": [],
   "source": [
    "from spacy import displacy\n",
    "\n",
    "displacy.render(d1, style=\"dep\", jupyter=True)"
   ]
  },
  {
   "cell_type": "markdown",
   "metadata": {},
   "source": [
    "Besser ist es, du visualisierst die einzelnen Sätz separat. Damit ist auch das Scrolling in den Sätzen getrennt voneinander möglich. Mit der Option `options={\"compact\": True}` erreichst du eine etwas kompaktere Darstellung ohne Kreisbögen:"
   ]
  },
  {
   "cell_type": "code",
   "execution_count": null,
   "metadata": {
    "scrolled": false
   },
   "outputs": [],
   "source": [
    "for s in d1.sents:\n",
    "    displacy.render(s, style=\"dep\", jupyter=True, options={\"compact\": True})"
   ]
  },
  {
   "cell_type": "markdown",
   "metadata": {},
   "source": [
    "## Noun chunks"
   ]
  },
  {
   "cell_type": "markdown",
   "metadata": {},
   "source": [
    "Noun chunks sind eine Art *Satzbausteine* und bestehen nur aus Substantiven oder Pronomen kombiniert mit Artikeln und Adjektiven. Technisch gesprochen haben sie ein Substantiv als *Kopf*. Du kannst dir *Noun chunks* als Substantive mit den dazugehörigen *Beschreibungswörtern* vorstellen.\n",
    "\n",
    "Dafür kannst du in einer Funktion über alle *Noun Chunks* iterieren, deren Text anzeigen, die Wurzel und den Kopf der Wurzel."
   ]
  },
  {
   "cell_type": "code",
   "execution_count": null,
   "metadata": {},
   "outputs": [],
   "source": [
    "def noun_chunks(d):\n",
    "    res = []\n",
    "    for token in d.noun_chunks:\n",
    "        res.append((token.text, token.root.text, token.root.dep_, token.root.head.text))\n",
    "\n",
    "    return pd.DataFrame(res, columns=[\"Text\", \"Root Text\", \"Root Dep\", \"Root Head Text\"])"
   ]
  },
  {
   "cell_type": "code",
   "execution_count": null,
   "metadata": {
    "scrolled": false
   },
   "outputs": [],
   "source": [
    "noun_chunks(d1)"
   ]
  },
  {
   "cell_type": "markdown",
   "metadata": {},
   "source": [
    "Unter den *Noun Chunks* kannst du dir die Bausteine eines Satzes oder die *Bedeutungseinheiten* in Form von Substantiven vorstellen."
   ]
  }
 ],
 "metadata": {
  "kernelspec": {
   "display_name": "Python 3",
   "language": "python",
   "name": "python3"
  },
  "language_info": {
   "codemirror_mode": {
    "name": "ipython",
    "version": 3
   },
   "file_extension": ".py",
   "mimetype": "text/x-python",
   "name": "python",
   "nbconvert_exporter": "python",
   "pygments_lexer": "ipython3",
   "version": "3.8.5"
  },
  "varInspector": {
   "cols": {
    "lenName": 16,
    "lenType": 16,
    "lenVar": 40
   },
   "kernels_config": {
    "python": {
     "delete_cmd_postfix": "",
     "delete_cmd_prefix": "del ",
     "library": "var_list.py",
     "varRefreshCmd": "print(var_dic_list())"
    },
    "r": {
     "delete_cmd_postfix": ") ",
     "delete_cmd_prefix": "rm(",
     "library": "var_list.r",
     "varRefreshCmd": "cat(var_dic_list()) "
    }
   },
   "types_to_exclude": [
    "module",
    "function",
    "builtin_function_or_method",
    "instance",
    "_Feature"
   ],
   "window_display": false
  }
 },
 "nbformat": 4,
 "nbformat_minor": 4
}
