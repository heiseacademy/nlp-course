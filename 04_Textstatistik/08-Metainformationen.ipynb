{
 "cells": [
  {
   "cell_type": "markdown",
   "metadata": {},
   "source": [
    "# Meta-Informationen"
   ]
  },
  {
   "cell_type": "markdown",
   "metadata": {},
   "source": [
    "In den letzten Teilen haben wir uns intensiv mit den Informationen der Texte selbst beschäftigt und du konntest daraus schon einige Erkenntnisse ableiten.\n",
    "\n",
    "Häufig stehen in den Dokumenten auch strukturierte Informationen zur Verfügung. Im Fall des Heise Newstickers sind das Zeitinformationen, Autoren und Keywords. "
   ]
  },
  {
   "cell_type": "markdown",
   "metadata": {},
   "source": [
    "## Daten auswählen"
   ]
  },
  {
   "cell_type": "markdown",
   "metadata": {},
   "source": [
    "Wie üblich beginnst du zunächst mit der Datenauswahl. Weil wir jetzt auch Zeitstempel analysieren möchten, solltest du darauf achten, dass sich keine zu neuen Artikel *eingeschlichen haben*:"
   ]
  },
  {
   "cell_type": "code",
   "execution_count": null,
   "metadata": {},
   "outputs": [],
   "source": [
    "import sys, os\n",
    "ON_COLAB = 'google.colab' in sys.modules\n",
    "\n",
    "if ON_COLAB:\n",
    "    os.system(\"test -f heise-articles-2020.db || wget  https://datanizing.com/heiseacademy/nlp-course/blob/main/99_Common/heise-articles-2020.db.gz && gunzip heise-articles-2020.db.gz\")\n",
    "    newsticker_db = 'heise-articles-2020.db'\n",
    "else:\n",
    "    newsticker_db = '../99_Common/heise-articles-2020.db'"
   ]
  },
  {
   "cell_type": "code",
   "execution_count": null,
   "metadata": {},
   "outputs": [],
   "source": [
    "import sqlite3 \n",
    "import pandas as pd\n",
    "\n",
    "sql = sqlite3.connect(newsticker_db)\n",
    "df = pd.read_sql(\"SELECT * FROM articles \\\n",
    "                   WHERE datePublished<'2021-01-01' \\\n",
    "                   ORDER BY datePublished\", sql, index_col=\"id\", parse_dates=[\"datePublished\"])"
   ]
  },
  {
   "cell_type": "markdown",
   "metadata": {},
   "source": [
    "## Zeitverlauf "
   ]
  },
  {
   "cell_type": "markdown",
   "metadata": {},
   "source": [
    "Zunächst interessieren wir uns für den zeitlichen Verlauf der Artikel. Weil du dich nicht für die Zeiten selbst interessierst, sondern für die Anzahl der Artikel pro Tag, nutzt du die `pandas`-Funktion `resample`. Als Aggregation verwendest du `count()`, weil die die Artikel zählen möchtest. Ein Feld, also z.B. die `url`, genügt zur Analyse:"
   ]
  },
  {
   "cell_type": "code",
   "execution_count": null,
   "metadata": {},
   "outputs": [],
   "source": [
    "df.set_index(\"datePublished\").resample('D').count()[[\"url\"]].plot()"
   ]
  },
  {
   "cell_type": "markdown",
   "metadata": {},
   "source": [
    "Das hat nicht geklappt! In einem der früheren Schritte hast du `datePublished` aus dem `json+ld` übernommen, dabei stand offenbar manchmal Sommerzeit oder Winterzeit als Zeitstempel drin.\n",
    "\n",
    "`pandas` kann das für dich in [UTC](https://de.wikipedia.org/wiki/Koordinierte_Weltzeit) umrechnen:"
   ]
  },
  {
   "cell_type": "code",
   "execution_count": null,
   "metadata": {},
   "outputs": [],
   "source": [
    "df[\"datePublished\"] = pd.to_datetime(df[\"datePublished\"], utc=True)"
   ]
  },
  {
   "cell_type": "markdown",
   "metadata": {},
   "source": [
    "Nun sollte es klappen:"
   ]
  },
  {
   "cell_type": "code",
   "execution_count": null,
   "metadata": {},
   "outputs": [],
   "source": [
    "df.set_index(\"datePublished\").resample('D').count()[[\"url\"]].plot()"
   ]
  },
  {
   "cell_type": "markdown",
   "metadata": {},
   "source": [
    "Sehr viel kannst du noch nicht erkennen, hauptsächlich die Wochenenden, an denen weniger Artikel veröffentlicht wurden. `resample` kann auch nach Wochen aggregieren:"
   ]
  },
  {
   "cell_type": "code",
   "execution_count": null,
   "metadata": {},
   "outputs": [],
   "source": [
    "df.set_index(\"datePublished\").resample('W').count()[[\"url\"]].plot()"
   ]
  },
  {
   "cell_type": "markdown",
   "metadata": {},
   "source": [
    "Eine Woche geht noch mit in das Jahr 2021. Wenn du möchtest, kannst du es auch noch nach Monaten aggregieren:"
   ]
  },
  {
   "cell_type": "code",
   "execution_count": null,
   "metadata": {},
   "outputs": [],
   "source": [
    "df.set_index(\"datePublished\").resample('M')[[\"url\"]].count().plot()"
   ]
  },
  {
   "cell_type": "markdown",
   "metadata": {},
   "source": [
    "Auch die Heise-Redakteure sind im August offenbar im Urlaub 😊."
   ]
  },
  {
   "cell_type": "markdown",
   "metadata": {},
   "source": [
    "## Autoren"
   ]
  },
  {
   "cell_type": "markdown",
   "metadata": {},
   "source": [
    "Mithilfe der `pandas`-Funktion `groupby` kannst du überprüfen, welcher Autor am meisten schreibt:"
   ]
  },
  {
   "cell_type": "code",
   "execution_count": null,
   "metadata": {},
   "outputs": [],
   "source": [
    "top_authors = df.groupby(\"author\").count()[[\"url\"]].sort_values(\"url\")[-20:]\n",
    "top_authors.plot.barh()"
   ]
  },
  {
   "cell_type": "markdown",
   "metadata": {},
   "source": [
    "Spannend könnte auch sein, welcher Autor in welchem Monat am meisten schreibt. Dazu definierst du dir zunächst eine Spalte `month`, die nur den Monat der Publikation enthält:"
   ]
  },
  {
   "cell_type": "code",
   "execution_count": null,
   "metadata": {},
   "outputs": [],
   "source": [
    "df[\"month\"] = df[\"datePublished\"].dt.strftime(\"%m\")"
   ]
  },
  {
   "cell_type": "markdown",
   "metadata": {},
   "source": [
    "`pandas` kann auch nach mehreren Spalten gruppieren, das machst du nun für `author` und `month`. Dabei zählst du die Anzahl der Artikel und behältst nur die Kombinationen aus Autor und Monat, die größer als 10 sind:"
   ]
  },
  {
   "cell_type": "code",
   "execution_count": null,
   "metadata": {},
   "outputs": [],
   "source": [
    "am = df.groupby([\"author\", \"month\"], as_index=False).agg({\"url\": \"count\"})\n",
    "am = am[am[\"url\"]>10]\n",
    "am"
   ]
  },
  {
   "cell_type": "markdown",
   "metadata": {},
   "source": [
    "Die Tabelle muss nun *aufgeklappt* werden, du möchtest `month` gerne als Spalten haben. Dafür dient die `pandas`-Funktion `pivot`. Da es Kombinationen gibt, die nicht belegt sind, füllst du diese mit 0 (`fillna(0)`) und zeichnest das Ergebnis mittels `seaborn` als Heatmap:"
   ]
  },
  {
   "cell_type": "code",
   "execution_count": null,
   "metadata": {},
   "outputs": [],
   "source": [
    "!pip install seaborn"
   ]
  },
  {
   "cell_type": "code",
   "execution_count": null,
   "metadata": {},
   "outputs": [],
   "source": [
    "import seaborn as sns\n",
    "import matplotlib.pyplot as plt\n",
    "plt.figure(figsize=(20,20))\n",
    "sns.heatmap(am.pivot(index=\"author\", columns=\"month\", values=\"url\").fillna(0))"
   ]
  },
  {
   "cell_type": "markdown",
   "metadata": {},
   "source": [
    "Das ist schon sehr interessant und etwas indiskret, weil du den Urlaub der Heise-Redakteure ablesen kannst."
   ]
  },
  {
   "cell_type": "markdown",
   "metadata": {},
   "source": [
    "## Autoren vs. Keywords"
   ]
  },
  {
   "cell_type": "markdown",
   "metadata": {},
   "source": [
    "Evtl. interessiert dich nun, welcher Autor zu welchem Thema schreibt. Allerdings kann `pandas` nicht gut mit mehrwertigen Feldern wie `keywords` umgehen. Deswegen definierst du dir einen neuen `DataFrame`, der für jeden `author` und jedes `keyword` als `count` den Wert 1 enthält:"
   ]
  },
  {
   "cell_type": "code",
   "execution_count": null,
   "metadata": {},
   "outputs": [],
   "source": [
    "ak = pd.DataFrame([[author, k, 1] for (author, keywords) in zip(df[\"author\"], df[\"keywords\"]) \n",
    "                         for k in str(keywords).split(\", \")], columns=[\"author\", \"keyword\", \"count\"]).dropna()"
   ]
  },
  {
   "cell_type": "markdown",
   "metadata": {},
   "source": [
    "Nun zählst du, wie häufig die Kombination aus `author` und `keyword` vorkommt:"
   ]
  },
  {
   "cell_type": "code",
   "execution_count": null,
   "metadata": {},
   "outputs": [],
   "source": [
    "akg = ak.groupby([\"author\", \"keyword\"], as_index=False).count()"
   ]
  },
  {
   "cell_type": "markdown",
   "metadata": {},
   "source": [
    "Damit es nicht zu unübersichtlich wird, nutzt du nur Kombinationen, die mindestens 20mal auftreten:"
   ]
  },
  {
   "cell_type": "code",
   "execution_count": null,
   "metadata": {},
   "outputs": [],
   "source": [
    "akg_top = akg[akg[\"count\"]>50].pivot(index=\"author\", columns=\"keyword\", values=\"count\").fillna(0)"
   ]
  },
  {
   "cell_type": "markdown",
   "metadata": {},
   "source": [
    "Das Ergebnis kannst du wieder als Heatmap darstellen und hast damit eine Art *Wissenslandkarte* der Heise-Redakteure erstellt:"
   ]
  },
  {
   "cell_type": "code",
   "execution_count": null,
   "metadata": {},
   "outputs": [],
   "source": [
    "plt.figure(figsize=(20,10))\n",
    "sns.heatmap(akg_top)"
   ]
  },
  {
   "cell_type": "markdown",
   "metadata": {},
   "source": [
    "## Metadaten sind wichtig!"
   ]
  },
  {
   "cell_type": "markdown",
   "metadata": {},
   "source": [
    "Obwohl wir uns im Kurs hautpsächlich mit Textanalyse beschäftigen, solltest du die Metadaten nicht vergessen. Sie geben die wichtige Zusatzinformationen und außerdem ein gutes Gefühl dafür, wie hochwertig die Daten sind."
   ]
  }
 ],
 "metadata": {
  "kernelspec": {
   "display_name": "Python 3 (ipykernel)",
   "language": "python",
   "name": "python3"
  },
  "language_info": {
   "codemirror_mode": {
    "name": "ipython",
    "version": 3
   },
   "file_extension": ".py",
   "mimetype": "text/x-python",
   "name": "python",
   "nbconvert_exporter": "python",
   "pygments_lexer": "ipython3",
   "version": "3.10.4"
  },
  "varInspector": {
   "cols": {
    "lenName": 16,
    "lenType": 16,
    "lenVar": 40
   },
   "kernels_config": {
    "python": {
     "delete_cmd_postfix": "",
     "delete_cmd_prefix": "del ",
     "library": "var_list.py",
     "varRefreshCmd": "print(var_dic_list())"
    },
    "r": {
     "delete_cmd_postfix": ") ",
     "delete_cmd_prefix": "rm(",
     "library": "var_list.r",
     "varRefreshCmd": "cat(var_dic_list()) "
    }
   },
   "types_to_exclude": [
    "module",
    "function",
    "builtin_function_or_method",
    "instance",
    "_Feature"
   ],
   "window_display": false
  }
 },
 "nbformat": 4,
 "nbformat_minor": 4
}
