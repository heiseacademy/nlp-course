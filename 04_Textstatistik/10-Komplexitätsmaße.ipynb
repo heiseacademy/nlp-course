{
 "cells": [
  {
   "cell_type": "code",
   "execution_count": 1,
   "metadata": {},
   "outputs": [
    {
     "name": "stdout",
     "output_type": "stream",
     "text": [
      "Requirement already satisfied: textacy in /home/cwinkler/.venv/jupyter-new/lib/python3.8/site-packages (0.11.0)\n",
      "Requirement already satisfied: cytoolz>=0.10.1 in /home/cwinkler/.venv/jupyter-new/lib/python3.8/site-packages (from textacy) (0.11.0)\n",
      "Requirement already satisfied: spacy>=3.0.0 in /home/cwinkler/.venv/jupyter-new/lib/python3.8/site-packages (from textacy) (3.0.6)\n",
      "Requirement already satisfied: networkx>=2.0 in /home/cwinkler/.venv/jupyter-new/lib/python3.8/site-packages (from textacy) (2.5.1)\n",
      "Requirement already satisfied: jellyfish>=0.8.0 in /home/cwinkler/.venv/jupyter-new/lib/python3.8/site-packages (from textacy) (0.8.2)\n",
      "Requirement already satisfied: scikit-learn>=0.19.0 in /home/cwinkler/.venv/jupyter-new/lib/python3.8/site-packages (from textacy) (0.24.1)\n",
      "Requirement already satisfied: scipy>=0.17.0 in /home/cwinkler/.venv/jupyter-new/lib/python3.8/site-packages (from textacy) (1.6.2)\n",
      "Requirement already satisfied: joblib>=0.13.0 in /home/cwinkler/.venv/jupyter-new/lib/python3.8/site-packages (from textacy) (1.0.1)\n",
      "Requirement already satisfied: numpy>=1.17.0 in /home/cwinkler/.venv/jupyter-new/lib/python3.8/site-packages (from textacy) (1.20.2)\n",
      "Requirement already satisfied: tqdm>=4.19.6 in /home/cwinkler/.venv/jupyter-new/lib/python3.8/site-packages (from textacy) (4.60.0)\n",
      "Requirement already satisfied: pyphen>=0.10.0 in /home/cwinkler/.venv/jupyter-new/lib/python3.8/site-packages (from textacy) (0.10.0)\n",
      "Requirement already satisfied: requests>=2.10.0 in /home/cwinkler/.venv/jupyter-new/lib/python3.8/site-packages (from textacy) (2.25.1)\n",
      "Requirement already satisfied: cachetools>=4.0.0 in /home/cwinkler/.venv/jupyter-new/lib/python3.8/site-packages (from textacy) (4.2.1)\n",
      "Requirement already satisfied: toolz>=0.8.0 in /home/cwinkler/.venv/jupyter-new/lib/python3.8/site-packages (from cytoolz>=0.10.1->textacy) (0.11.1)\n",
      "Requirement already satisfied: pathy>=0.3.5 in /home/cwinkler/.venv/jupyter-new/lib/python3.8/site-packages (from spacy>=3.0.0->textacy) (0.5.2)\n",
      "Requirement already satisfied: setuptools in /home/cwinkler/.venv/jupyter-new/lib/python3.8/site-packages (from spacy>=3.0.0->textacy) (44.0.0)\n",
      "Requirement already satisfied: packaging>=20.0 in /home/cwinkler/.venv/jupyter-new/lib/python3.8/site-packages (from spacy>=3.0.0->textacy) (20.9)\n",
      "Requirement already satisfied: preshed<3.1.0,>=3.0.2 in /home/cwinkler/.venv/jupyter-new/lib/python3.8/site-packages (from spacy>=3.0.0->textacy) (3.0.5)\n",
      "Requirement already satisfied: murmurhash<1.1.0,>=0.28.0 in /home/cwinkler/.venv/jupyter-new/lib/python3.8/site-packages (from spacy>=3.0.0->textacy) (1.0.5)\n",
      "Requirement already satisfied: pydantic<1.8.0,>=1.7.1 in /home/cwinkler/.venv/jupyter-new/lib/python3.8/site-packages (from spacy>=3.0.0->textacy) (1.7.3)\n",
      "Requirement already satisfied: catalogue<2.1.0,>=2.0.3 in /home/cwinkler/.venv/jupyter-new/lib/python3.8/site-packages (from spacy>=3.0.0->textacy) (2.0.3)\n",
      "Requirement already satisfied: jinja2 in /home/cwinkler/.venv/jupyter-new/lib/python3.8/site-packages (from spacy>=3.0.0->textacy) (2.11.3)\n",
      "Requirement already satisfied: thinc<8.1.0,>=8.0.3 in /home/cwinkler/.venv/jupyter-new/lib/python3.8/site-packages (from spacy>=3.0.0->textacy) (8.0.3)\n",
      "Requirement already satisfied: spacy-legacy<3.1.0,>=3.0.4 in /home/cwinkler/.venv/jupyter-new/lib/python3.8/site-packages (from spacy>=3.0.0->textacy) (3.0.5)\n",
      "Requirement already satisfied: srsly<3.0.0,>=2.4.1 in /home/cwinkler/.venv/jupyter-new/lib/python3.8/site-packages (from spacy>=3.0.0->textacy) (2.4.1)\n",
      "Requirement already satisfied: cymem<2.1.0,>=2.0.2 in /home/cwinkler/.venv/jupyter-new/lib/python3.8/site-packages (from spacy>=3.0.0->textacy) (2.0.5)\n",
      "Requirement already satisfied: typer<0.4.0,>=0.3.0 in /home/cwinkler/.venv/jupyter-new/lib/python3.8/site-packages (from spacy>=3.0.0->textacy) (0.3.2)\n",
      "Requirement already satisfied: wasabi<1.1.0,>=0.8.1 in /home/cwinkler/.venv/jupyter-new/lib/python3.8/site-packages (from spacy>=3.0.0->textacy) (0.8.2)\n",
      "Requirement already satisfied: blis<0.8.0,>=0.4.0 in /home/cwinkler/.venv/jupyter-new/lib/python3.8/site-packages (from spacy>=3.0.0->textacy) (0.7.4)\n",
      "Requirement already satisfied: decorator<5,>=4.3 in /home/cwinkler/.venv/jupyter-new/lib/python3.8/site-packages (from networkx>=2.0->textacy) (4.4.2)\n",
      "Requirement already satisfied: threadpoolctl>=2.0.0 in /home/cwinkler/.venv/jupyter-new/lib/python3.8/site-packages (from scikit-learn>=0.19.0->textacy) (2.1.0)\n",
      "Requirement already satisfied: certifi>=2017.4.17 in /home/cwinkler/.venv/jupyter-new/lib/python3.8/site-packages (from requests>=2.10.0->textacy) (2020.12.5)\n",
      "Requirement already satisfied: urllib3<1.27,>=1.21.1 in /home/cwinkler/.venv/jupyter-new/lib/python3.8/site-packages (from requests>=2.10.0->textacy) (1.26.4)\n",
      "Requirement already satisfied: idna<3,>=2.5 in /home/cwinkler/.venv/jupyter-new/lib/python3.8/site-packages (from requests>=2.10.0->textacy) (2.10)\n",
      "Requirement already satisfied: chardet<5,>=3.0.2 in /home/cwinkler/.venv/jupyter-new/lib/python3.8/site-packages (from requests>=2.10.0->textacy) (4.0.0)\n",
      "Requirement already satisfied: smart-open<4.0.0,>=2.2.0 in /home/cwinkler/.venv/jupyter-new/lib/python3.8/site-packages (from pathy>=0.3.5->spacy>=3.0.0->textacy) (3.0.0)\n",
      "Requirement already satisfied: pyparsing>=2.0.2 in /home/cwinkler/.venv/jupyter-new/lib/python3.8/site-packages (from packaging>=20.0->spacy>=3.0.0->textacy) (2.4.7)\n",
      "Requirement already satisfied: MarkupSafe>=0.23 in /home/cwinkler/.venv/jupyter-new/lib/python3.8/site-packages (from jinja2->spacy>=3.0.0->textacy) (1.1.1)\n",
      "Requirement already satisfied: click<7.2.0,>=7.1.1 in /home/cwinkler/.venv/jupyter-new/lib/python3.8/site-packages (from typer<0.4.0,>=0.3.0->spacy>=3.0.0->textacy) (7.1.2)\n",
      "Requirement already satisfied: de-core-news-lg==3.0.0 from https://github.com/explosion/spacy-models/releases/download/de_core_news_lg-3.0.0/de_core_news_lg-3.0.0-py3-none-any.whl#egg=de_core_news_lg==3.0.0 in /home/cwinkler/.venv/jupyter-new/lib/python3.8/site-packages (3.0.0)\n",
      "Requirement already satisfied: spacy<3.1.0,>=3.0.0 in /home/cwinkler/.venv/jupyter-new/lib/python3.8/site-packages (from de-core-news-lg==3.0.0) (3.0.6)\n",
      "Requirement already satisfied: thinc<8.1.0,>=8.0.3 in /home/cwinkler/.venv/jupyter-new/lib/python3.8/site-packages (from spacy<3.1.0,>=3.0.0->de-core-news-lg==3.0.0) (8.0.3)\n",
      "Requirement already satisfied: wasabi<1.1.0,>=0.8.1 in /home/cwinkler/.venv/jupyter-new/lib/python3.8/site-packages (from spacy<3.1.0,>=3.0.0->de-core-news-lg==3.0.0) (0.8.2)\n",
      "Requirement already satisfied: requests<3.0.0,>=2.13.0 in /home/cwinkler/.venv/jupyter-new/lib/python3.8/site-packages (from spacy<3.1.0,>=3.0.0->de-core-news-lg==3.0.0) (2.25.1)\n",
      "Requirement already satisfied: typer<0.4.0,>=0.3.0 in /home/cwinkler/.venv/jupyter-new/lib/python3.8/site-packages (from spacy<3.1.0,>=3.0.0->de-core-news-lg==3.0.0) (0.3.2)\n",
      "Requirement already satisfied: pydantic<1.8.0,>=1.7.1 in /home/cwinkler/.venv/jupyter-new/lib/python3.8/site-packages (from spacy<3.1.0,>=3.0.0->de-core-news-lg==3.0.0) (1.7.3)\n",
      "Requirement already satisfied: preshed<3.1.0,>=3.0.2 in /home/cwinkler/.venv/jupyter-new/lib/python3.8/site-packages (from spacy<3.1.0,>=3.0.0->de-core-news-lg==3.0.0) (3.0.5)\n",
      "Requirement already satisfied: spacy-legacy<3.1.0,>=3.0.4 in /home/cwinkler/.venv/jupyter-new/lib/python3.8/site-packages (from spacy<3.1.0,>=3.0.0->de-core-news-lg==3.0.0) (3.0.5)\n",
      "Requirement already satisfied: pathy>=0.3.5 in /home/cwinkler/.venv/jupyter-new/lib/python3.8/site-packages (from spacy<3.1.0,>=3.0.0->de-core-news-lg==3.0.0) (0.5.2)\n",
      "Requirement already satisfied: numpy>=1.15.0 in /home/cwinkler/.venv/jupyter-new/lib/python3.8/site-packages (from spacy<3.1.0,>=3.0.0->de-core-news-lg==3.0.0) (1.20.2)\n",
      "Requirement already satisfied: cymem<2.1.0,>=2.0.2 in /home/cwinkler/.venv/jupyter-new/lib/python3.8/site-packages (from spacy<3.1.0,>=3.0.0->de-core-news-lg==3.0.0) (2.0.5)\n",
      "Requirement already satisfied: srsly<3.0.0,>=2.4.1 in /home/cwinkler/.venv/jupyter-new/lib/python3.8/site-packages (from spacy<3.1.0,>=3.0.0->de-core-news-lg==3.0.0) (2.4.1)\n",
      "Requirement already satisfied: setuptools in /home/cwinkler/.venv/jupyter-new/lib/python3.8/site-packages (from spacy<3.1.0,>=3.0.0->de-core-news-lg==3.0.0) (44.0.0)\n",
      "Requirement already satisfied: catalogue<2.1.0,>=2.0.3 in /home/cwinkler/.venv/jupyter-new/lib/python3.8/site-packages (from spacy<3.1.0,>=3.0.0->de-core-news-lg==3.0.0) (2.0.3)\n",
      "Requirement already satisfied: murmurhash<1.1.0,>=0.28.0 in /home/cwinkler/.venv/jupyter-new/lib/python3.8/site-packages (from spacy<3.1.0,>=3.0.0->de-core-news-lg==3.0.0) (1.0.5)\n",
      "Requirement already satisfied: blis<0.8.0,>=0.4.0 in /home/cwinkler/.venv/jupyter-new/lib/python3.8/site-packages (from spacy<3.1.0,>=3.0.0->de-core-news-lg==3.0.0) (0.7.4)\n",
      "Requirement already satisfied: jinja2 in /home/cwinkler/.venv/jupyter-new/lib/python3.8/site-packages (from spacy<3.1.0,>=3.0.0->de-core-news-lg==3.0.0) (2.11.3)\n",
      "Requirement already satisfied: tqdm<5.0.0,>=4.38.0 in /home/cwinkler/.venv/jupyter-new/lib/python3.8/site-packages (from spacy<3.1.0,>=3.0.0->de-core-news-lg==3.0.0) (4.60.0)\n",
      "Requirement already satisfied: packaging>=20.0 in /home/cwinkler/.venv/jupyter-new/lib/python3.8/site-packages (from spacy<3.1.0,>=3.0.0->de-core-news-lg==3.0.0) (20.9)\n",
      "Requirement already satisfied: urllib3<1.27,>=1.21.1 in /home/cwinkler/.venv/jupyter-new/lib/python3.8/site-packages (from requests<3.0.0,>=2.13.0->spacy<3.1.0,>=3.0.0->de-core-news-lg==3.0.0) (1.26.4)\n",
      "Requirement already satisfied: chardet<5,>=3.0.2 in /home/cwinkler/.venv/jupyter-new/lib/python3.8/site-packages (from requests<3.0.0,>=2.13.0->spacy<3.1.0,>=3.0.0->de-core-news-lg==3.0.0) (4.0.0)\n",
      "Requirement already satisfied: certifi>=2017.4.17 in /home/cwinkler/.venv/jupyter-new/lib/python3.8/site-packages (from requests<3.0.0,>=2.13.0->spacy<3.1.0,>=3.0.0->de-core-news-lg==3.0.0) (2020.12.5)\n",
      "Requirement already satisfied: idna<3,>=2.5 in /home/cwinkler/.venv/jupyter-new/lib/python3.8/site-packages (from requests<3.0.0,>=2.13.0->spacy<3.1.0,>=3.0.0->de-core-news-lg==3.0.0) (2.10)\n",
      "Requirement already satisfied: click<7.2.0,>=7.1.1 in /home/cwinkler/.venv/jupyter-new/lib/python3.8/site-packages (from typer<0.4.0,>=0.3.0->spacy<3.1.0,>=3.0.0->de-core-news-lg==3.0.0) (7.1.2)\n",
      "Requirement already satisfied: smart-open<4.0.0,>=2.2.0 in /home/cwinkler/.venv/jupyter-new/lib/python3.8/site-packages (from pathy>=0.3.5->spacy<3.1.0,>=3.0.0->de-core-news-lg==3.0.0) (3.0.0)\n"
     ]
    },
    {
     "name": "stdout",
     "output_type": "stream",
     "text": [
      "Requirement already satisfied: MarkupSafe>=0.23 in /home/cwinkler/.venv/jupyter-new/lib/python3.8/site-packages (from jinja2->spacy<3.1.0,>=3.0.0->de-core-news-lg==3.0.0) (1.1.1)\n",
      "Requirement already satisfied: pyparsing>=2.0.2 in /home/cwinkler/.venv/jupyter-new/lib/python3.8/site-packages (from packaging>=20.0->spacy<3.1.0,>=3.0.0->de-core-news-lg==3.0.0) (2.4.7)\n",
      "\u001b[38;5;2m✔ Download and installation successful\u001b[0m\n",
      "You can now load the package via spacy.load('de_core_news_lg')\n"
     ]
    }
   ],
   "source": [
    "!pip install textacy\n",
    "!python -m spacy download de_core_news_lg"
   ]
  },
  {
   "cell_type": "code",
   "execution_count": 2,
   "metadata": {},
   "outputs": [],
   "source": [
    "import sys, os\n",
    "ON_COLAB = 'google.colab' in sys.modules\n",
    "\n",
    "if ON_COLAB:\n",
    "    os.system(\"test -f heise-articles-2020.db || wget  https://datanizing.com/heiseacademy/nlp-course/blob/main/99_Common/heise-articles-2020.db.gz && gunzip heise-articles-2020.db.gz\")\n",
    "    newsticker_db = 'heise-articles-2020.db'\n",
    "else:\n",
    "    newsticker_db = '../99_Common/heise-articles-2020.db'"
   ]
  },
  {
   "cell_type": "code",
   "execution_count": 3,
   "metadata": {},
   "outputs": [],
   "source": [
    "import sqlite3 \n",
    "import pandas as pd\n",
    "\n",
    "sql = sqlite3.connect(newsticker_db)\n",
    "df = pd.read_sql(\"SELECT * FROM nlp_articles \\\n",
    "                   WHERE datePublished<'2021-01-01' \\\n",
    "                   ORDER BY datePublished\", sql, index_col=\"id\", parse_dates=[\"datePublished\"])"
   ]
  },
  {
   "cell_type": "code",
   "execution_count": 4,
   "metadata": {},
   "outputs": [
    {
     "data": {
      "text/plain": [
       "<AxesSubplot:ylabel='Frequency'>"
      ]
     },
     "execution_count": 4,
     "metadata": {},
     "output_type": "execute_result"
    },
    {
     "data": {
      "image/png": "[encoded data removed]",
      "text/plain": [
       "<Figure size 432x288 with 1 Axes>"
      ]
     },
     "metadata": {
      "needs_background": "light"
     },
     "output_type": "display_data"
    }
   ],
   "source": [
    "df[\"token_per_sentence\"] = df[\"no_tokens\"] / df[\"no_sentences\"]\n",
    "df[[\"token_per_sentence\"]].plot.hist()"
   ]
  },
  {
   "cell_type": "code",
   "execution_count": 5,
   "metadata": {},
   "outputs": [],
   "source": [
    "import spacy\n",
    "nlp = spacy.load(\"de_core_news_lg\")"
   ]
  },
  {
   "cell_type": "code",
   "execution_count": 8,
   "metadata": {},
   "outputs": [
    {
     "data": {
      "application/vnd.jupyter.widget-view+json": {
       "model_id": "8774dad235c04c5091de511f82249362",
       "version_major": 2,
       "version_minor": 0
      },
      "text/plain": [
       "  0%|          | 0/10403 [00:00<?, ?it/s]"
      ]
     },
     "metadata": {},
     "output_type": "display_data"
    }
   ],
   "source": [
    "import textacy.text_stats\n",
    "from tqdm.auto import tqdm\n",
    "\n",
    "df[\"fulltext\"] = df[\"title\"] + \"\\n\" + df[\"header\"] + \"\\n\" + df[\"text\"]\n",
    "for i, r in tqdm(df.iterrows(), total=len(df)):\n",
    "    tdoc = textacy.make_spacy_doc(r[\"fulltext\"], lang=\"de_core_news_lg\")\n",
    "    ts = textacy.text_stats.TextStats(tdoc)\n",
    "    df.at[i, \"entropy\"] = ts.entropy\n",
    "    df.at[i, \"coleman_liau_index\"] = ts.coleman_liau_index\n",
    "    df.at[i, \"gunning_fog_index\"] = ts.gunning_fog_index\n",
    "    df.at[i, \"flesch_kincaid_grade_level\"] = ts.flesch_kincaid_grade_level\n",
    "    df.at[i, \"smog_index\"] = ts.smog_index\n",
    "    df.at[i, \"wiener_sachtextformel\"] = ts.wiener_sachtextformel"
   ]
  },
  {
   "cell_type": "code",
   "execution_count": null,
   "metadata": {},
   "outputs": [],
   "source": [
    "df[[\"entropy\"]].plot.hist()"
   ]
  },
  {
   "cell_type": "code",
   "execution_count": null,
   "metadata": {},
   "outputs": [],
   "source": [
    "df[[\"coleman_liau_index\"]].plot.hist()"
   ]
  },
  {
   "cell_type": "code",
   "execution_count": null,
   "metadata": {
    "scrolled": true
   },
   "outputs": [],
   "source": [
    "df[[\"smog_index\"]].plot.hist()"
   ]
  },
  {
   "cell_type": "code",
   "execution_count": null,
   "metadata": {},
   "outputs": [],
   "source": [
    "df[[\"flesch_kincaid_grade_level\"]].plot.hist()"
   ]
  },
  {
   "cell_type": "code",
   "execution_count": null,
   "metadata": {},
   "outputs": [],
   "source": [
    "df[[\"wiener_sachtextformel\"]].plot.hist()"
   ]
  },
  {
   "cell_type": "code",
   "execution_count": null,
   "metadata": {},
   "outputs": [],
   "source": [
    "top_authors = df.groupby(\"author\").agg({\"url\": \"count\"}).sort_values(\"url\").tail(20).index.values\n",
    "top_author_articles = df[df[\"author\"].isin(top_authors)]"
   ]
  },
  {
   "cell_type": "code",
   "execution_count": null,
   "metadata": {},
   "outputs": [],
   "source": [
    "import seaborn as sns\n",
    "import matplotlib.pyplot as plt\n",
    "plt.figure(figsize=(8, 10))\n",
    "labels = top_author_articles.groupby(\"author\").agg({\"wiener_sachtextformel\": \"median\"}).sort_values(\"wiener_sachtextformel\").index.values\n",
    "sns.violinplot(y=\"author\", x=\"wiener_sachtextformel\", data=top_author_articles, order=labels, palette=\"viridis\")"
   ]
  },
  {
   "cell_type": "code",
   "execution_count": null,
   "metadata": {},
   "outputs": [],
   "source": [
    "pd.set_option(\"display.max_colwidth\", None)\n",
    "df.sort_values(\"wiener_sachtextformel\").tail(10)[[\"author\", \"title\", \"url\"]]"
   ]
  }
 ],
 "metadata": {
  "kernelspec": {
   "display_name": "Python 3",
   "language": "python",
   "name": "python3"
  },
  "language_info": {
   "codemirror_mode": {
    "name": "ipython",
    "version": 3
   },
   "file_extension": ".py",
   "mimetype": "text/x-python",
   "name": "python",
   "nbconvert_exporter": "python",
   "pygments_lexer": "ipython3",
   "version": "3.8.5"
  },
  "varInspector": {
   "cols": {
    "lenName": 16,
    "lenType": 16,
    "lenVar": 40
   },
   "kernels_config": {
    "python": {
     "delete_cmd_postfix": "",
     "delete_cmd_prefix": "del ",
     "library": "var_list.py",
     "varRefreshCmd": "print(var_dic_list())"
    },
    "r": {
     "delete_cmd_postfix": ") ",
     "delete_cmd_prefix": "rm(",
     "library": "var_list.r",
     "varRefreshCmd": "cat(var_dic_list()) "
    }
   },
   "types_to_exclude": [
    "module",
    "function",
    "builtin_function_or_method",
    "instance",
    "_Feature"
   ],
   "window_display": false
  }
 },
 "nbformat": 4,
 "nbformat_minor": 4
}
