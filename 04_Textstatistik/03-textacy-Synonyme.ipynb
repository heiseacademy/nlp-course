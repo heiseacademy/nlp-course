{
 "cells": [
  {
   "cell_type": "markdown",
   "metadata": {},
   "source": [
    "# Beispiel: Synonyme und Stimmungen"
   ]
  },
  {
   "cell_type": "markdown",
   "metadata": {},
   "source": [
    "Neben der Analyse spezifischer Texte kannst du mit `textacy` auch auf generelle Sprachinformationen zugreifen, un dir so z.B.  Synonyme erschließen.\n",
    "\n",
    "Sprachabhängig stellt `textacy` sogar noch mehr Informationen zur Verfügung, etwa zur Analyse von Stimmungen."
   ]
  },
  {
   "cell_type": "markdown",
   "metadata": {},
   "source": [
    "## Synonyme"
   ]
  },
  {
   "cell_type": "markdown",
   "metadata": {},
   "source": [
    "Viele der extern verfügbaren Daten stehen unter `textacy.resources` bereit:"
   ]
  },
  {
   "cell_type": "code",
   "execution_count": null,
   "metadata": {},
   "outputs": [],
   "source": [
    "!pip install textacy\n",
    "!python -m spacy download de_core_news_lg"
   ]
  },
  {
   "cell_type": "code",
   "execution_count": null,
   "metadata": {},
   "outputs": [],
   "source": [
    "import textacy.resources"
   ]
  },
  {
   "cell_type": "markdown",
   "metadata": {},
   "source": [
    "[ConceptNet](http://conceptnet.io) ist ein offener, mehrsprachiger Wissensgraph, den man frei verwenden kann. `textacy` kann zwar direkt damit umgehen, muss dazu allerdings zunächst Daten herunterladen. Du musst also einen kleinen Augenblick Geduld haben, bis die Daten heruntergeladen sind."
   ]
  },
  {
   "cell_type": "code",
   "execution_count": null,
   "metadata": {},
   "outputs": [],
   "source": [
    "cn = textacy.resources.ConceptNet()\n",
    "cn.download()\n",
    "cn.info"
   ]
  },
  {
   "cell_type": "markdown",
   "metadata": {},
   "source": [
    "Synonyme sind unterschiedliche Worte, die die gleiche Bedeutung haben (umgekehrt haben *Homonyme*, denen du später noch begegnen wirst, bei gleichem Wort kontextabhängig unterschiedliche Bedeutungen!).\n",
    "\n",
    "Beim allerersten Aufruf der Synonym-Funktion baut sich `textacy` dazu eine interne Datenstruktur auf. Auch hier musst du  einen klein bisschen Geduld haben. Der Aufruf benötigt noch die Sprache und die Wortart:"
   ]
  },
  {
   "cell_type": "code",
   "execution_count": null,
   "metadata": {},
   "outputs": [],
   "source": [
    "cn.get_synonyms(\"frau\", lang=\"de\", sense=\"n\")"
   ]
  },
  {
   "cell_type": "markdown",
   "metadata": {},
   "source": [
    "Für deutsche Begriffe funktioniert das sehr gut, wie sieht es mit anderen Sprachen aus?"
   ]
  },
  {
   "cell_type": "code",
   "execution_count": null,
   "metadata": {},
   "outputs": [],
   "source": [
    "cn.get_synonyms(\"spouse\", lang=\"en\", sense=\"n\")"
   ]
  },
  {
   "cell_type": "markdown",
   "metadata": {},
   "source": [
    "Auch das funktioniert sehr gut.\n",
    "\n",
    "*Anonyme* sind Gegenteile, leider stehen diese nur in kleinerer Zahl zur Verfügung. Auch das funktioniert ganz gut:"
   ]
  },
  {
   "cell_type": "code",
   "execution_count": null,
   "metadata": {
    "scrolled": true
   },
   "outputs": [],
   "source": [
    "cn.get_antonyms(\"Liebe\", lang=\"de\", sense=\"n\")"
   ]
  },
  {
   "cell_type": "markdown",
   "metadata": {},
   "source": [
    "Auf Englisch gibt es noch etwas mehr Auswahl:"
   ]
  },
  {
   "cell_type": "code",
   "execution_count": null,
   "metadata": {},
   "outputs": [],
   "source": [
    "cn.get_antonyms(\"love\", lang=\"en\", sense=\"n\")"
   ]
  },
  {
   "cell_type": "markdown",
   "metadata": {},
   "source": [
    "Sehr interessant sind auch Hyponyme als *Oberbegriffe*:"
   ]
  },
  {
   "cell_type": "code",
   "execution_count": null,
   "metadata": {},
   "outputs": [],
   "source": [
    "cn.get_hyponyms(\"Liebe\", lang=\"de\", sense=\"n\")"
   ]
  },
  {
   "cell_type": "markdown",
   "metadata": {},
   "source": [
    "Auch die stehen wieder in unterschiedlichen Sprachen zur Verfügung:"
   ]
  },
  {
   "cell_type": "code",
   "execution_count": null,
   "metadata": {},
   "outputs": [],
   "source": [
    "cn.get_hyponyms(\"love\", lang=\"en\", sense=\"n\")"
   ]
  },
  {
   "cell_type": "markdown",
   "metadata": {},
   "source": [
    "Der Vollständigkeit halber sein noch bemerkt, dass es sog. *Meronyme* gibt, die Teil anderer Worte sind. Bisher konnten wir aber in ConceptNet noch keine finden.\n",
    "\n",
    "Auch so bietet dir ConceptNet einen erheblichen Mehrwert, weil du es wie eine Art automatischen Thesaurus nutzen kannst."
   ]
  },
  {
   "cell_type": "markdown",
   "metadata": {},
   "source": [
    "## DepecheMood"
   ]
  },
  {
   "cell_type": "markdown",
   "metadata": {},
   "source": [
    "`textacy` bietet dir mit dem Zugriff auf [DepecheMood](http://www.depechemood.eu) die Möglichkeit, die Emotionen von einzelnen Wörtern zu analysieren. Leider stehen die Daten nur auf Englisch und Italienisch zur Verfügung.\n",
    "\n",
    "Den Aufruf führst du ganz ähnlich wie bei ConceptNet durch:"
   ]
  },
  {
   "cell_type": "code",
   "execution_count": null,
   "metadata": {},
   "outputs": [],
   "source": [
    "dm = textacy.resources.DepecheMood(lang=\"en\", word_rep=\"lemmapos\")\n",
    "dm.download()"
   ]
  },
  {
   "cell_type": "markdown",
   "metadata": {},
   "source": [
    "Nun kannst du den Bezug einzelner Wörter zu vordefinierten Kriterien ermitteln:"
   ]
  },
  {
   "cell_type": "code",
   "execution_count": null,
   "metadata": {},
   "outputs": [],
   "source": [
    "dm.get_emotional_valence(\"disease#n\")"
   ]
  },
  {
   "cell_type": "markdown",
   "metadata": {},
   "source": [
    "Dieser Service kann sehr nützlich sein. Später werden wir mit Word Embeddings noch neue, domänenspezifische Möglichkeiten finden, wie du selbst eine solche Zuordnung durchführen kannst."
   ]
  },
  {
   "cell_type": "markdown",
   "metadata": {},
   "source": [
    "## Externe Services oder Daten"
   ]
  },
  {
   "cell_type": "markdown",
   "metadata": {},
   "source": [
    "Neben den bei `textacy` integrierten Daten gibt es sehr viele externe Daten oder Services, die du in deine Analyse mit integrieren kannst. Nicht alle davon sind frei verfügbar und bei manchen ist der Integrationsaufwand verhältnismäßig hoch. Oft  lohnt es sich, nach einem speziellen Python-Paket zu suchen, bevor du selbst mit der Programmierung beginnst. Daher ist auch `textacy` ein sehr guter Start!"
   ]
  }
 ],
 "metadata": {
  "kernelspec": {
   "display_name": "Python 3",
   "language": "python",
   "name": "python3"
  },
  "language_info": {
   "codemirror_mode": {
    "name": "ipython",
    "version": 3
   },
   "file_extension": ".py",
   "mimetype": "text/x-python",
   "name": "python",
   "nbconvert_exporter": "python",
   "pygments_lexer": "ipython3",
   "version": "3.8.5"
  },
  "varInspector": {
   "cols": {
    "lenName": 16,
    "lenType": 16,
    "lenVar": 40
   },
   "kernels_config": {
    "python": {
     "delete_cmd_postfix": "",
     "delete_cmd_prefix": "del ",
     "library": "var_list.py",
     "varRefreshCmd": "print(var_dic_list())"
    },
    "r": {
     "delete_cmd_postfix": ") ",
     "delete_cmd_prefix": "rm(",
     "library": "var_list.r",
     "varRefreshCmd": "cat(var_dic_list()) "
    }
   },
   "types_to_exclude": [
    "module",
    "function",
    "builtin_function_or_method",
    "instance",
    "_Feature"
   ],
   "window_display": false
  }
 },
 "nbformat": 4,
 "nbformat_minor": 4
}
